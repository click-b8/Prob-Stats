{
  "nbformat": 4,
  "nbformat_minor": 0,
  "metadata": {
    "colab": {
      "provenance": [],
      "include_colab_link": true
    },
    "kernelspec": {
      "name": "python3",
      "display_name": "Python 3"
    },
    "language_info": {
      "name": "python"
    }
  },
  "cells": [
    {
      "cell_type": "markdown",
      "metadata": {
        "id": "view-in-github",
        "colab_type": "text"
      },
      "source": [
        "<a href=\"https://colab.research.google.com/github/click-b8/Prob-Stats/blob/main/Another_copy_of_Hahn_Math_24_Lab_1.ipynb\" target=\"_parent\"><img src=\"https://colab.research.google.com/assets/colab-badge.svg\" alt=\"Open In Colab\"/></a>"
      ]
    },
    {
      "cell_type": "markdown",
      "source": [
        "## Python Basics"
      ],
      "metadata": {
        "id": "0Lv7wtZ-iTC4"
      }
    },
    {
      "cell_type": "markdown",
      "source": [
        "### Calculator"
      ],
      "metadata": {
        "id": "eFNi_s3RiWwc"
      }
    },
    {
      "cell_type": "code",
      "source": [
        "# Comments with hashtag, python ignores this"
      ],
      "metadata": {
        "id": "5jk_lQhz0T87"
      },
      "execution_count": null,
      "outputs": []
    },
    {
      "cell_type": "code",
      "source": [
        "30.34321 + 9.12313 - 3.5567"
      ],
      "metadata": {
        "id": "Sk8TLU3biY0J"
      },
      "execution_count": null,
      "outputs": []
    },
    {
      "cell_type": "code",
      "source": [
        "2*2"
      ],
      "metadata": {
        "id": "R-u5seQsh_RF"
      },
      "execution_count": null,
      "outputs": []
    },
    {
      "cell_type": "code",
      "source": [
        "2**8"
      ],
      "metadata": {
        "id": "OhzaZtPch_Yb"
      },
      "execution_count": null,
      "outputs": []
    },
    {
      "cell_type": "code",
      "source": [
        "2**123"
      ],
      "metadata": {
        "id": "yt6iRMB8h_a2"
      },
      "execution_count": null,
      "outputs": []
    },
    {
      "cell_type": "code",
      "source": [
        "2**12345"
      ],
      "metadata": {
        "id": "Ej6lPOmHh_dh",
        "collapsed": true
      },
      "execution_count": null,
      "outputs": []
    },
    {
      "cell_type": "code",
      "source": [
        "import sys\n",
        "sys.set_int_max_str_digits(100000)\n",
        "2**45678"
      ],
      "metadata": {
        "id": "0_Tjv73WXg67"
      },
      "execution_count": null,
      "outputs": []
    },
    {
      "cell_type": "code",
      "source": [
        "8/4"
      ],
      "metadata": {
        "id": "HWnnfszJzi1N"
      },
      "execution_count": null,
      "outputs": []
    },
    {
      "cell_type": "code",
      "source": [
        "8//4"
      ],
      "metadata": {
        "id": "NzDS65ewzkDe"
      },
      "execution_count": null,
      "outputs": []
    },
    {
      "cell_type": "code",
      "source": [
        "8%12"
      ],
      "metadata": {
        "id": "MwcyFBu4zlgE"
      },
      "execution_count": null,
      "outputs": []
    },
    {
      "cell_type": "code",
      "source": [
        "13%12"
      ],
      "metadata": {
        "id": "KGMyjnL_zm-8"
      },
      "execution_count": null,
      "outputs": []
    },
    {
      "cell_type": "code",
      "source": [
        "22%12"
      ],
      "metadata": {
        "id": "YSUzBZWEzrvu"
      },
      "execution_count": null,
      "outputs": []
    },
    {
      "cell_type": "code",
      "source": [
        "24%12"
      ],
      "metadata": {
        "id": "abx0hn9jz-pB"
      },
      "execution_count": null,
      "outputs": []
    },
    {
      "cell_type": "markdown",
      "source": [
        "### Variables"
      ],
      "metadata": {
        "id": "C8SDfhEloyKH"
      }
    },
    {
      "cell_type": "code",
      "source": [
        "apples = 5"
      ],
      "metadata": {
        "id": "LMw0vkqhh_iu"
      },
      "execution_count": null,
      "outputs": []
    },
    {
      "cell_type": "code",
      "source": [
        "oranges = 8"
      ],
      "metadata": {
        "id": "RWMUvAJhh_lA"
      },
      "execution_count": null,
      "outputs": []
    },
    {
      "cell_type": "code",
      "source": [
        "total = apples + oranges"
      ],
      "metadata": {
        "id": "JFF0Q3Bhh_na"
      },
      "execution_count": null,
      "outputs": []
    },
    {
      "cell_type": "code",
      "source": [
        "total"
      ],
      "metadata": {
        "id": "fDX5SYA8h_qC"
      },
      "execution_count": null,
      "outputs": []
    },
    {
      "cell_type": "code",
      "source": [
        "apples**2"
      ],
      "metadata": {
        "id": "v3LbjRnEh_sU"
      },
      "execution_count": null,
      "outputs": []
    },
    {
      "cell_type": "code",
      "source": [
        "cost_per_apple = 0.25"
      ],
      "metadata": {
        "id": "PyMaiewtiRRu"
      },
      "execution_count": null,
      "outputs": []
    },
    {
      "cell_type": "code",
      "source": [
        "total_apple_costs = cost_per_apple * apples"
      ],
      "metadata": {
        "id": "ssPAIuNCiRT6"
      },
      "execution_count": null,
      "outputs": []
    },
    {
      "cell_type": "code",
      "source": [
        "total_apple_costs"
      ],
      "metadata": {
        "id": "NRZizjgRiRWB"
      },
      "execution_count": null,
      "outputs": []
    },
    {
      "cell_type": "markdown",
      "source": [
        "### Vectors"
      ],
      "metadata": {
        "id": "NrZeHmA2pF7-"
      }
    },
    {
      "cell_type": "code",
      "source": [
        "import numpy as np\n",
        "import matplotlib.pyplot as plt"
      ],
      "metadata": {
        "id": "8IZ5UUuriRcT"
      },
      "execution_count": null,
      "outputs": []
    },
    {
      "cell_type": "code",
      "source": [
        "np.arange(10)"
      ],
      "metadata": {
        "id": "eVVE2-PXiRe2",
        "colab": {
          "base_uri": "https://localhost:8080/"
        },
        "outputId": "38eaad62-7e9b-4396-bc37-0c3e03b45a14"
      },
      "execution_count": null,
      "outputs": [
        {
          "output_type": "execute_result",
          "data": {
            "text/plain": [
              "array([0, 1, 2, 3, 4, 5, 6, 7, 8, 9])"
            ]
          },
          "metadata": {},
          "execution_count": 12
        }
      ]
    },
    {
      "cell_type": "code",
      "source": [
        "x = np.arange(10)"
      ],
      "metadata": {
        "id": "lxDda9rPiRgr"
      },
      "execution_count": null,
      "outputs": []
    },
    {
      "cell_type": "code",
      "source": [
        "x"
      ],
      "metadata": {
        "id": "WLNa80A1iRiv",
        "colab": {
          "base_uri": "https://localhost:8080/"
        },
        "outputId": "d4664c85-7fcf-4f91-fa32-7cc31fae3af3"
      },
      "execution_count": null,
      "outputs": [
        {
          "output_type": "execute_result",
          "data": {
            "text/plain": [
              "array([0, 1, 2, 3, 4, 5, 6, 7, 8, 9])"
            ]
          },
          "metadata": {},
          "execution_count": 14
        }
      ]
    },
    {
      "cell_type": "code",
      "source": [
        "y = 3 * x + 4.2"
      ],
      "metadata": {
        "id": "wvBymvO6iRk9"
      },
      "execution_count": null,
      "outputs": []
    },
    {
      "cell_type": "code",
      "source": [
        "y"
      ],
      "metadata": {
        "id": "R0caJJvuiRnD",
        "colab": {
          "base_uri": "https://localhost:8080/"
        },
        "outputId": "80779811-b10e-463a-e201-8938ab907227"
      },
      "execution_count": null,
      "outputs": [
        {
          "output_type": "execute_result",
          "data": {
            "text/plain": [
              "array([ 4.2,  7.2, 10.2, 13.2, 16.2, 19.2, 22.2, 25.2, 28.2, 31.2])"
            ]
          },
          "metadata": {},
          "execution_count": 16
        }
      ]
    },
    {
      "cell_type": "code",
      "source": [
        "# x = np.array([133,24,333,4,5,6])\n",
        "# y = np.array([11,22,33,44,55,66])"
      ],
      "metadata": {
        "id": "BfLYoPWpvAft"
      },
      "execution_count": null,
      "outputs": []
    },
    {
      "cell_type": "code",
      "source": [
        "x,y"
      ],
      "metadata": {
        "id": "_mgPXYE-HS0z",
        "colab": {
          "base_uri": "https://localhost:8080/"
        },
        "outputId": "d50629ac-af9e-424c-f152-71d4dd1dced0"
      },
      "execution_count": null,
      "outputs": [
        {
          "output_type": "execute_result",
          "data": {
            "text/plain": [
              "(array([0, 1, 2, 3, 4, 5, 6, 7, 8, 9]),\n",
              " array([ 4.2,  7.2, 10.2, 13.2, 16.2, 19.2, 22.2, 25.2, 28.2, 31.2]))"
            ]
          },
          "metadata": {},
          "execution_count": 18
        }
      ]
    },
    {
      "cell_type": "markdown",
      "source": [
        "### Plotting"
      ],
      "metadata": {
        "id": "SSehamg7pVQ-"
      }
    },
    {
      "cell_type": "code",
      "source": [
        "plt.plot(x,y)"
      ],
      "metadata": {
        "id": "lv2MktRkvAru",
        "colab": {
          "base_uri": "https://localhost:8080/",
          "height": 448
        },
        "outputId": "c7e03955-06f3-4eaa-c630-7e78dcbabfbc"
      },
      "execution_count": null,
      "outputs": [
        {
          "output_type": "execute_result",
          "data": {
            "text/plain": [
              "[<matplotlib.lines.Line2D at 0x7e2b0542aa70>]"
            ]
          },
          "metadata": {},
          "execution_count": 19
        },
        {
          "output_type": "display_data",
          "data": {
            "text/plain": [
              "<Figure size 640x480 with 1 Axes>"
            ],
            "image/png": "[encoded data removed]"
          },
          "metadata": {}
        }
      ]
    },
    {
      "cell_type": "code",
      "source": [
        "plt.plot(x,y,'.')"
      ],
      "metadata": {
        "id": "q_SC501IvNyQ",
        "colab": {
          "base_uri": "https://localhost:8080/",
          "height": 448
        },
        "outputId": "64c0fd0c-8594-4d10-eee8-4a77b15c9ed5"
      },
      "execution_count": null,
      "outputs": [
        {
          "output_type": "execute_result",
          "data": {
            "text/plain": [
              "[<matplotlib.lines.Line2D at 0x7e2b05335ab0>]"
            ]
          },
          "metadata": {},
          "execution_count": 20
        },
        {
          "output_type": "display_data",
          "data": {
            "text/plain": [
              "<Figure size 640x480 with 1 Axes>"
            ],
            "image/png": "[encoded data removed]"
          },
          "metadata": {}
        }
      ]
    },
    {
      "cell_type": "code",
      "source": [
        "plt.plot(x,y,'r.')"
      ],
      "metadata": {
        "id": "Mp3pHMdSvPcQ",
        "colab": {
          "base_uri": "https://localhost:8080/",
          "height": 448
        },
        "outputId": "9e6ea70c-e7f8-431e-bbea-6f595dcc90ae"
      },
      "execution_count": null,
      "outputs": [
        {
          "output_type": "execute_result",
          "data": {
            "text/plain": [
              "[<matplotlib.lines.Line2D at 0x7e2b053afa30>]"
            ]
          },
          "metadata": {},
          "execution_count": 21
        },
        {
          "output_type": "display_data",
          "data": {
            "text/plain": [
              "<Figure size 640x480 with 1 Axes>"
            ],
            "image/png": "[encoded data removed]"
          },
          "metadata": {}
        }
      ]
    },
    {
      "cell_type": "code",
      "source": [
        "plt.plot(x,y,'b--')"
      ],
      "metadata": {
        "id": "2_sDDZyhvREK",
        "colab": {
          "base_uri": "https://localhost:8080/",
          "height": 448
        },
        "outputId": "244e2cf3-e70b-4eaa-9fab-ad70d6e38c97"
      },
      "execution_count": null,
      "outputs": [
        {
          "output_type": "execute_result",
          "data": {
            "text/plain": [
              "[<matplotlib.lines.Line2D at 0x7e2b0521baf0>]"
            ]
          },
          "metadata": {},
          "execution_count": 22
        },
        {
          "output_type": "display_data",
          "data": {
            "text/plain": [
              "<Figure size 640x480 with 1 Axes>"
            ],
            "image/png": "[encoded data removed]"
          },
          "metadata": {}
        }
      ]
    },
    {
      "cell_type": "code",
      "source": [
        "import matplotlib.pyplot as plt"
      ],
      "metadata": {
        "id": "5xxvUltOiRrY"
      },
      "execution_count": null,
      "outputs": []
    },
    {
      "cell_type": "code",
      "source": [
        "plt.plot(x,y)"
      ],
      "metadata": {
        "id": "7GqRu33ziRx6",
        "colab": {
          "base_uri": "https://localhost:8080/",
          "height": 448
        },
        "outputId": "ec12fc43-f2a3-4111-f310-e3ccfcd2114a"
      },
      "execution_count": null,
      "outputs": [
        {
          "output_type": "execute_result",
          "data": {
            "text/plain": [
              "[<matplotlib.lines.Line2D at 0x7e2b052b48e0>]"
            ]
          },
          "metadata": {},
          "execution_count": 24
        },
        {
          "output_type": "display_data",
          "data": {
            "text/plain": [
              "<Figure size 640x480 with 1 Axes>"
            ],
            "image/png": "[encoded data removed]"
          },
          "metadata": {}
        }
      ]
    },
    {
      "cell_type": "code",
      "source": [
        "x = np.linspace(0,5,10)"
      ],
      "metadata": {
        "id": "W9d-C2GkpavQ"
      },
      "execution_count": null,
      "outputs": []
    },
    {
      "cell_type": "code",
      "source": [
        "x"
      ],
      "metadata": {
        "id": "xm4FuiXapaxM",
        "colab": {
          "base_uri": "https://localhost:8080/"
        },
        "outputId": "91c72b28-185c-4a9a-de2d-3ad42533814f"
      },
      "execution_count": null,
      "outputs": [
        {
          "output_type": "execute_result",
          "data": {
            "text/plain": [
              "array([0.        , 0.55555556, 1.11111111, 1.66666667, 2.22222222,\n",
              "       2.77777778, 3.33333333, 3.88888889, 4.44444444, 5.        ])"
            ]
          },
          "metadata": {},
          "execution_count": 46
        }
      ]
    },
    {
      "cell_type": "code",
      "source": [
        "y = x**2"
      ],
      "metadata": {
        "id": "EFVXNTBlpazx"
      },
      "execution_count": null,
      "outputs": []
    },
    {
      "cell_type": "code",
      "source": [
        "plt.plot(x,y)"
      ],
      "metadata": {
        "id": "zeDSPzcypa3l",
        "colab": {
          "base_uri": "https://localhost:8080/",
          "height": 448
        },
        "outputId": "866393bc-583e-4c19-dd57-4e126249850d"
      },
      "execution_count": null,
      "outputs": [
        {
          "output_type": "execute_result",
          "data": {
            "text/plain": [
              "[<matplotlib.lines.Line2D at 0x7e2b04811210>]"
            ]
          },
          "metadata": {},
          "execution_count": 48
        },
        {
          "output_type": "display_data",
          "data": {
            "text/plain": [
              "<Figure size 640x480 with 1 Axes>"
            ],
            "image/png": "[encoded data removed]"
          },
          "metadata": {}
        }
      ]
    },
    {
      "cell_type": "code",
      "source": [
        "plt.plot(x,y)\n",
        "plt.title(\"New Graph of x**2\");\n",
        "plt.xlabel(\"x\");\n",
        "plt.ylabel(\"y\");"
      ],
      "metadata": {
        "id": "Ya-NbJXBpa79",
        "colab": {
          "base_uri": "https://localhost:8080/",
          "height": 472
        },
        "outputId": "0a45ea66-63dd-416c-cb45-9e44069aabce"
      },
      "execution_count": null,
      "outputs": [
        {
          "output_type": "display_data",
          "data": {
            "text/plain": [
              "<Figure size 640x480 with 1 Axes>"
            ],
            "image/png": "[encoded data removed]"
          },
          "metadata": {}
        }
      ]
    },
    {
      "cell_type": "code",
      "source": [
        "plt.plot(x,y,label=\"x squared\")\n",
        "plt.title(\"Graph of x**2\");\n",
        "plt.xlabel(\"x\");\n",
        "plt.ylabel(\"y\");\n",
        "plt.legend()"
      ],
      "metadata": {
        "id": "XaKFm2-1iR0D",
        "colab": {
          "base_uri": "https://localhost:8080/",
          "height": 490
        },
        "outputId": "ff2d6ce3-059d-4e8f-ec2a-2462e8b82589"
      },
      "execution_count": null,
      "outputs": [
        {
          "output_type": "execute_result",
          "data": {
            "text/plain": [
              "<matplotlib.legend.Legend at 0x7e2b048c6ef0>"
            ]
          },
          "metadata": {},
          "execution_count": 50
        },
        {
          "output_type": "display_data",
          "data": {
            "text/plain": [
              "<Figure size 640x480 with 1 Axes>"
            ],
            "image/png": "[encoded data removed]"
          },
          "metadata": {}
        }
      ]
    },
    {
      "cell_type": "code",
      "source": [
        "x = np.linspace(0, 2, 100)\n",
        "\n",
        "plt.plot(x, x, label='linear')\n",
        "plt.plot(x, x**2, label='quadratic')\n",
        "plt.plot(x, x**3, label='cubic')\n",
        "\n",
        "plt.xlabel('x label')\n",
        "plt.ylabel('y label')\n",
        "\n",
        "plt.title(\"Simple Plot\")\n",
        "\n",
        "plt.legend()"
      ],
      "metadata": {
        "id": "QySsAtYkCZ-M",
        "colab": {
          "base_uri": "https://localhost:8080/",
          "height": 490
        },
        "outputId": "51d0d354-dd3d-476e-b3c2-2fbb831d0f0f"
      },
      "execution_count": null,
      "outputs": [
        {
          "output_type": "execute_result",
          "data": {
            "text/plain": [
              "<matplotlib.legend.Legend at 0x7e2b04723b50>"
            ]
          },
          "metadata": {},
          "execution_count": 51
        },
        {
          "output_type": "display_data",
          "data": {
            "text/plain": [
              "<Figure size 640x480 with 1 Axes>"
            ],
            "image/png": "[encoded data removed]"
          },
          "metadata": {}
        }
      ]
    },
    {
      "cell_type": "code",
      "source": [
        "labels = 'Ethereum', 'Bitcoin', 'XRP', 'U.S Dollar'\n",
        "sizes = [15, 30, 40, 15]\n",
        "explode = (0, 0.1, 0, 0)  # only \"explode\" the 2nd slice (i.e. 'Dogs')\n",
        "\n",
        "fig1, ax1 = plt.subplots()\n",
        "ax1.pie(sizes, explode=explode, labels=labels, autopct='%1.1f%%', shadow=True, startangle=90)\n",
        "ax1.axis('equal')  # Equal aspect ratio ensures that pie is drawn as a circle.\n",
        "plt.show()"
      ],
      "metadata": {
        "id": "GXCljzCzHK8v",
        "colab": {
          "base_uri": "https://localhost:8080/",
          "height": 406
        },
        "outputId": "87bb8eb9-6df9-46f7-8272-2d439c7c64e6"
      },
      "execution_count": null,
      "outputs": [
        {
          "output_type": "display_data",
          "data": {
            "text/plain": [
              "<Figure size 640x480 with 1 Axes>"
            ],
            "image/png": "[encoded data removed]"
          },
          "metadata": {}
        }
      ]
    },
    {
      "cell_type": "code",
      "source": [
        "import numpy as np\n",
        "import matplotlib.pyplot as plt\n",
        "t = np.arange(0.0, 2.0, 0.01)\n",
        "s = np.sin(2*np.pi*t)\n",
        "\n",
        "plt.plot(t, s)\n",
        "plt.title(r'$\\alpha_i > \\beta_i$', fontsize=20)\n",
        "plt.text(1, -0.6, r'$\\sum_{i=0}^\\infty x_i$', fontsize=20)\n",
        "plt.text(0.5, 0.6, r'$\\mathcal{A}\\mathrm{sin}(2 \\omega t)$',fontsize=15)\n",
        "plt.xlabel('time (s)')\n",
        "plt.ylabel('volts (mV)')\n",
        "plt.show()"
      ],
      "metadata": {
        "id": "cbJTtIWUHKNn",
        "colab": {
          "base_uri": "https://localhost:8080/",
          "height": 482
        },
        "outputId": "923d0e68-1881-4067-e64d-17b61af08f9b"
      },
      "execution_count": null,
      "outputs": [
        {
          "output_type": "display_data",
          "data": {
            "text/plain": [
              "<Figure size 640x480 with 1 Axes>"
            ],
            "image/png": "[encoded data removed]"
          },
          "metadata": {}
        }
      ]
    },
    {
      "cell_type": "markdown",
      "source": [
        "Plot the following functions from $x = -10$ to $x = 10$\n",
        "\n",
        "(Hint: np.sin, np.exp)"
      ],
      "metadata": {
        "id": "aBIah-uiGUXZ"
      }
    },
    {
      "cell_type": "markdown",
      "source": [
        "$y = 10x+7$\n",
        "\n",
        "$y = -3x-12$\n",
        "\n",
        "$y=\\sin(x)$\n",
        "\n",
        "$y=e^x$\n",
        "\n",
        "$y=e^{-x^2}$"
      ],
      "metadata": {
        "id": "5HATIyQyGfEj"
      }
    },
    {
      "cell_type": "markdown",
      "source": [
        "Pick out a plot of your choice from [here](https://matplotlib.org/stable/gallery/index.html), copy the code to this notebook, run, and document to the best of your abilities."
      ],
      "metadata": {
        "id": "t0g5nhtbHfta"
      }
    },
    {
      "cell_type": "code",
      "source": [
        "import matplotlib.pyplot as plt\n",
        "import numpy as np\n",
        "\n",
        "from matplotlib.colors import Normalize\n",
        "from matplotlib.markers import MarkerStyle\n",
        "from matplotlib.text import TextPath\n",
        "from matplotlib.transforms import Affine2D\n",
        "\n",
        "SUCCESS_SYMBOLS = [\n",
        "    TextPath((0, 0), \"☹\"),\n",
        "    TextPath((0, 0), \"😒\"),\n",
        "    TextPath((0, 0), \"☺\"),\n",
        "]\n",
        "\n",
        "N = 25\n",
        "skills = np.random.uniform(5, 80, size=N) * 0.1 + 5\n",
        "takeoff_angles = np.random.normal(0, 90, N)\n",
        "thrusts = np.random.uniform(size=N)\n",
        "successful = np.random.randint(0, 3, size=N)\n",
        "positions = np.random.normal(size=(N, 2)) * 5\n",
        "data = zip(skills, takeoff_angles, thrusts, successful, positions)\n",
        "\n",
        "cmap = plt.colormaps[\"jet\"]\n",
        "fig, ax = plt.subplots()\n",
        "fig.suptitle(\"Throwing shade\", size=14)\n",
        "for skill, takeoff, thrust, mood, pos in data:\n",
        "    t = Affine2D().scale(skill).rotate_deg(takeoff)\n",
        "    m = MarkerStyle(SUCCESS_SYMBOLS[mood], transform=t)\n",
        "    ax.plot(pos[0], pos[1], marker=m, color=cmap(thrust))\n",
        "\n",
        "\n",
        "plt.show()"
      ],
      "metadata": {
        "id": "2LWMYXMCHg6P",
        "colab": {
          "base_uri": "https://localhost:8080/",
          "height": 478
        },
        "outputId": "14d27056-0b99-410a-b0c7-392e4c14e0eb"
      },
      "execution_count": null,
      "outputs": [
        {
          "output_type": "display_data",
          "data": {
            "text/plain": [
              "<Figure size 640x480 with 1 Axes>"
            ],
            "image/png": "[encoded data removed]"
          },
          "metadata": {}
        }
      ]
    },
    {
      "cell_type": "code",
      "source": [],
      "metadata": {
        "id": "Zp5utNcWI6Qj"
      },
      "execution_count": null,
      "outputs": []
    },
    {
      "cell_type": "code",
      "source": [],
      "metadata": {
        "id": "ZU7yJ91lI6aS"
      },
      "execution_count": null,
      "outputs": []
    },
    {
      "cell_type": "code",
      "source": [],
      "metadata": {
        "id": "OqlbqmRcI6kY"
      },
      "execution_count": null,
      "outputs": []
    },
    {
      "cell_type": "markdown",
      "source": [
        "### Graphics Output"
      ],
      "metadata": {
        "id": "lrL2Razq9AT7"
      }
    },
    {
      "cell_type": "code",
      "execution_count": null,
      "metadata": {
        "id": "SS8HqWzEEs8l"
      },
      "outputs": [],
      "source": [
        "from IPython.core.display import display, HTML"
      ]
    },
    {
      "cell_type": "code",
      "metadata": {
        "id": "scoPAjX5I36X",
        "colab": {
          "base_uri": "https://localhost:8080/",
          "height": 74
        },
        "outputId": "399d0e0c-bab2-42f8-8585-5123589e4cf1"
      },
      "source": [
        "display(HTML('<h1>The World Is Yours.</h1>'))"
      ],
      "execution_count": null,
      "outputs": [
        {
          "output_type": "display_data",
          "data": {
            "text/plain": [
              "<IPython.core.display.HTML object>"
            ],
            "text/html": [
              "<h1>The World Is Yours.</h1>"
            ]
          },
          "metadata": {}
        }
      ]
    },
    {
      "cell_type": "markdown",
      "source": [
        "### Numpy - Numerical Python"
      ],
      "metadata": {
        "id": "dTOHPs3KFQ2U"
      }
    },
    {
      "cell_type": "code",
      "source": [
        "import numpy as np"
      ],
      "metadata": {
        "id": "BC1S6fo9FOBE"
      },
      "execution_count": null,
      "outputs": []
    },
    {
      "cell_type": "code",
      "source": [
        "np.random.random()"
      ],
      "metadata": {
        "id": "Qo72tOfu5YTm",
        "colab": {
          "base_uri": "https://localhost:8080/"
        },
        "outputId": "5d6747c5-f738-444f-9979-c25c691608c5"
      },
      "execution_count": null,
      "outputs": [
        {
          "output_type": "execute_result",
          "data": {
            "text/plain": [
              "0.7315542083693194"
            ]
          },
          "metadata": {},
          "execution_count": 55
        }
      ]
    },
    {
      "cell_type": "code",
      "source": [
        "np.random.random() > 0.5;"
      ],
      "metadata": {
        "id": "Ew6vCebg5aXK"
      },
      "execution_count": null,
      "outputs": []
    },
    {
      "cell_type": "code",
      "source": [
        "r = np.random.random(); print(r); r >0.5"
      ],
      "metadata": {
        "id": "9Kxax1cSKi0e",
        "colab": {
          "base_uri": "https://localhost:8080/"
        },
        "outputId": "e2dcb2d9-c6af-445c-fc9a-ca715969cda0"
      },
      "execution_count": null,
      "outputs": [
        {
          "output_type": "stream",
          "name": "stdout",
          "text": [
            "0.5969868240716825\n"
          ]
        },
        {
          "output_type": "execute_result",
          "data": {
            "text/plain": [
              "True"
            ]
          },
          "metadata": {},
          "execution_count": 57
        }
      ]
    },
    {
      "cell_type": "code",
      "source": [
        "r"
      ],
      "metadata": {
        "id": "wGJ6FEojKjB1",
        "colab": {
          "base_uri": "https://localhost:8080/"
        },
        "outputId": "08cdbc4b-bc3e-43e3-f68a-186964982d12"
      },
      "execution_count": null,
      "outputs": [
        {
          "output_type": "execute_result",
          "data": {
            "text/plain": [
              "0.5969868240716825"
            ]
          },
          "metadata": {},
          "execution_count": 58
        }
      ]
    },
    {
      "cell_type": "code",
      "source": [
        "r > 0.5"
      ],
      "metadata": {
        "id": "mclzEhslKjPP",
        "colab": {
          "base_uri": "https://localhost:8080/"
        },
        "outputId": "7336f829-95fd-48cb-b3c6-64c0614f8fa2"
      },
      "execution_count": null,
      "outputs": [
        {
          "output_type": "execute_result",
          "data": {
            "text/plain": [
              "True"
            ]
          },
          "metadata": {},
          "execution_count": 59
        }
      ]
    },
    {
      "cell_type": "code",
      "source": [],
      "metadata": {
        "id": "2mcw6yU1KjfO"
      },
      "execution_count": null,
      "outputs": []
    },
    {
      "cell_type": "code",
      "source": [],
      "metadata": {
        "id": "LnQJtIIEKjt-"
      },
      "execution_count": null,
      "outputs": []
    },
    {
      "cell_type": "code",
      "source": [],
      "metadata": {
        "id": "eueTYbXdJ_wy"
      },
      "execution_count": null,
      "outputs": []
    },
    {
      "cell_type": "code",
      "source": [
        "def flip_coin():\n",
        "    if np.random.random() > 0.5:\n",
        "        print(\"Heads\")\n",
        "    else:\n",
        "        print(\"Tails\")\n"
      ],
      "metadata": {
        "id": "HwbqZHbm5e2u"
      },
      "execution_count": null,
      "outputs": []
    },
    {
      "cell_type": "code",
      "source": [
        "flip_coin()"
      ],
      "metadata": {
        "id": "ZcbnR1ln5sNh",
        "colab": {
          "base_uri": "https://localhost:8080/"
        },
        "outputId": "8c92f4c3-4542-4d05-802e-159615d2ac36"
      },
      "execution_count": null,
      "outputs": [
        {
          "output_type": "stream",
          "name": "stdout",
          "text": [
            "Tails\n"
          ]
        }
      ]
    },
    {
      "cell_type": "code",
      "source": [],
      "metadata": {
        "id": "8ekumEdF9pF6"
      },
      "execution_count": null,
      "outputs": []
    },
    {
      "cell_type": "code",
      "source": [
        "np.random.randint(0,2024)"
      ],
      "metadata": {
        "id": "VNb9hPJuLqWF",
        "colab": {
          "base_uri": "https://localhost:8080/"
        },
        "outputId": "ef53d77b-6deb-4991-d9bf-a5120c92d89b"
      },
      "execution_count": null,
      "outputs": [
        {
          "output_type": "execute_result",
          "data": {
            "text/plain": [
              "1611"
            ]
          },
          "metadata": {},
          "execution_count": 90
        }
      ]
    },
    {
      "cell_type": "code",
      "metadata": {
        "id": "vFHNmtSRpyXg"
      },
      "source": [
        "def coin():\n",
        "  return np.random.randint(5)"
      ],
      "execution_count": null,
      "outputs": []
    },
    {
      "cell_type": "code",
      "metadata": {
        "id": "AfAPWIjzp2gY",
        "colab": {
          "base_uri": "https://localhost:8080/"
        },
        "outputId": "9d8b0ff1-ab62-4866-ffa4-530b918e4321"
      },
      "source": [
        "coin()"
      ],
      "execution_count": null,
      "outputs": [
        {
          "output_type": "execute_result",
          "data": {
            "text/plain": [
              "1"
            ]
          },
          "metadata": {},
          "execution_count": 121
        }
      ]
    },
    {
      "cell_type": "code",
      "metadata": {
        "id": "m-fkSNLTp4TH",
        "colab": {
          "base_uri": "https://localhost:8080/",
          "height": 221
        },
        "outputId": "600cf440-93a6-4c6f-897c-cbdf922e6002"
      },
      "source": [
        "display(HTML('<img src=\"https://random-ize.com/coin-flip/us-quarter/us-quarter-front.jpg\">'))"
      ],
      "execution_count": null,
      "outputs": [
        {
          "output_type": "display_data",
          "data": {
            "text/plain": [
              "<IPython.core.display.HTML object>"
            ],
            "text/html": [
              "<img src=\"https://random-ize.com/coin-flip/us-quarter/us-quarter-front.jpg\">"
            ]
          },
          "metadata": {}
        }
      ]
    },
    {
      "cell_type": "code",
      "metadata": {
        "id": "PAyD2RQrq8ji"
      },
      "source": [
        "heads = 'https://random-ize.com/coin-flip/us-quarter/us-quarter-front.jpg'\n",
        "tails = 'https://random-ize.com/coin-flip/us-quarter/us-quarter-back.jpg'"
      ],
      "execution_count": null,
      "outputs": []
    },
    {
      "cell_type": "code",
      "metadata": {
        "id": "BmZMzsCjrhaV"
      },
      "source": [
        "def show_img(img):\n",
        "  display(HTML('<img src=' + img + '>'))"
      ],
      "execution_count": null,
      "outputs": []
    },
    {
      "cell_type": "code",
      "metadata": {
        "id": "UmSs0Jtrr_d2",
        "colab": {
          "base_uri": "https://localhost:8080/",
          "height": 221
        },
        "outputId": "94329cc3-cbba-42c7-99ae-ef4a11a1af34"
      },
      "source": [
        "show_img(heads)"
      ],
      "execution_count": null,
      "outputs": [
        {
          "output_type": "display_data",
          "data": {
            "text/plain": [
              "<IPython.core.display.HTML object>"
            ],
            "text/html": [
              "<img src=https://random-ize.com/coin-flip/us-quarter/us-quarter-front.jpg>"
            ]
          },
          "metadata": {}
        }
      ]
    },
    {
      "cell_type": "code",
      "metadata": {
        "id": "LDcFpan0sBgm",
        "colab": {
          "base_uri": "https://localhost:8080/",
          "height": 221
        },
        "outputId": "faf384df-6a43-4519-fbe3-f25ea2dde560"
      },
      "source": [
        "show_img(tails)"
      ],
      "execution_count": null,
      "outputs": [
        {
          "output_type": "display_data",
          "data": {
            "text/plain": [
              "<IPython.core.display.HTML object>"
            ],
            "text/html": [
              "<img src=https://random-ize.com/coin-flip/us-quarter/us-quarter-back.jpg>"
            ]
          },
          "metadata": {}
        }
      ]
    },
    {
      "cell_type": "code",
      "metadata": {
        "id": "U1Oe2gBlsFFQ"
      },
      "source": [
        "def flip_coin():\n",
        "\n",
        "    if coin():\n",
        "        show_img(heads)\n",
        "    else:\n",
        "        show_img(tails)"
      ],
      "execution_count": null,
      "outputs": []
    },
    {
      "cell_type": "code",
      "metadata": {
        "id": "qatV0cO1tLAF",
        "colab": {
          "base_uri": "https://localhost:8080/",
          "height": 221
        },
        "outputId": "92741bdd-6903-446f-959c-96e5c0cf5b89"
      },
      "source": [
        "flip_coin()"
      ],
      "execution_count": null,
      "outputs": [
        {
          "output_type": "display_data",
          "data": {
            "text/plain": [
              "<IPython.core.display.HTML object>"
            ],
            "text/html": [
              "<img src=https://random-ize.com/coin-flip/us-quarter/us-quarter-front.jpg>"
            ]
          },
          "metadata": {}
        }
      ]
    },
    {
      "cell_type": "code",
      "source": [
        "for i in range(5):\n",
        "    flip_coin()"
      ],
      "metadata": {
        "id": "JK_63sBc9ze4"
      },
      "execution_count": null,
      "outputs": []
    },
    {
      "cell_type": "code",
      "source": [],
      "metadata": {
        "id": "cB59QfQgFb4f"
      },
      "execution_count": null,
      "outputs": []
    },
    {
      "cell_type": "code",
      "source": [],
      "metadata": {
        "id": "x6FbWdWHGx8m"
      },
      "execution_count": null,
      "outputs": []
    },
    {
      "cell_type": "markdown",
      "source": [
        "# Cards"
      ],
      "metadata": {
        "id": "xe9KExvXIFDQ"
      }
    },
    {
      "cell_type": "code",
      "source": [],
      "metadata": {
        "id": "whfcIkG8IWER"
      },
      "execution_count": null,
      "outputs": []
    },
    {
      "cell_type": "code",
      "source": [
        "card_url_head = \"https://www.improvemagic.com/wp-content/uploads/2020/11/\"\n",
        "card_url_tail = \".png\""
      ],
      "metadata": {
        "id": "ZuGAbJIC_BGM"
      },
      "execution_count": null,
      "outputs": []
    },
    {
      "cell_type": "code",
      "source": [
        "suit = ['k','p','s','l'] #clubs,spades,hearts,diamonds\n",
        "card = ['a','2','3','4','5','6','7','8','9','10','j','q','k']"
      ],
      "metadata": {
        "id": "FSYUTq2F_BIx"
      },
      "execution_count": null,
      "outputs": []
    },
    {
      "cell_type": "code",
      "source": [
        "i = np.random.randint(4)\n",
        "j = np.random.randint(13)"
      ],
      "metadata": {
        "id": "4UBNVwxU_BL5"
      },
      "execution_count": null,
      "outputs": []
    },
    {
      "cell_type": "code",
      "source": [
        "i,j"
      ],
      "metadata": {
        "id": "pAx5veOKJYqk",
        "colab": {
          "base_uri": "https://localhost:8080/"
        },
        "outputId": "dd5c20d0-bd93-4000-cd96-1a4b87f2da70"
      },
      "execution_count": null,
      "outputs": [
        {
          "output_type": "execute_result",
          "data": {
            "text/plain": [
              "(3, 7)"
            ]
          },
          "metadata": {},
          "execution_count": 127
        }
      ]
    },
    {
      "cell_type": "code",
      "source": [
        "suit[i]"
      ],
      "metadata": {
        "id": "PJI87rOLADjE",
        "colab": {
          "base_uri": "https://localhost:8080/",
          "height": 35
        },
        "outputId": "34618af3-278b-4e89-acce-e0ccc2eaa4a5"
      },
      "execution_count": null,
      "outputs": [
        {
          "output_type": "execute_result",
          "data": {
            "text/plain": [
              "'l'"
            ],
            "application/vnd.google.colaboratory.intrinsic+json": {
              "type": "string"
            }
          },
          "metadata": {},
          "execution_count": 128
        }
      ]
    },
    {
      "cell_type": "code",
      "source": [
        "card[j]"
      ],
      "metadata": {
        "id": "4CDlPu3QAGrB",
        "colab": {
          "base_uri": "https://localhost:8080/",
          "height": 35
        },
        "outputId": "eae09056-e8d4-4018-c784-780e96c35e6a"
      },
      "execution_count": null,
      "outputs": [
        {
          "output_type": "execute_result",
          "data": {
            "text/plain": [
              "'8'"
            ],
            "application/vnd.google.colaboratory.intrinsic+json": {
              "type": "string"
            }
          },
          "metadata": {},
          "execution_count": 129
        }
      ]
    },
    {
      "cell_type": "code",
      "source": [
        "def card_image(card_number):\n",
        "\n",
        "    i = card_number//13\n",
        "    j = card_number%13\n",
        "\n",
        "    return suit[i]+card[j]"
      ],
      "metadata": {
        "id": "JtqOFl_WAVxd"
      },
      "execution_count": null,
      "outputs": []
    },
    {
      "cell_type": "code",
      "source": [
        "card_image(3)"
      ],
      "metadata": {
        "id": "K1MVgXJ-AVz0",
        "colab": {
          "base_uri": "https://localhost:8080/",
          "height": 35
        },
        "outputId": "042523fe-7217-4cb3-d758-08a77e052cfd"
      },
      "execution_count": null,
      "outputs": [
        {
          "output_type": "execute_result",
          "data": {
            "text/plain": [
              "'k4'"
            ],
            "application/vnd.google.colaboratory.intrinsic+json": {
              "type": "string"
            }
          },
          "metadata": {},
          "execution_count": 131
        }
      ]
    },
    {
      "cell_type": "code",
      "source": [
        "img = card_url_head + card_image(3) + card_url_tail"
      ],
      "metadata": {
        "id": "2TGYbXUiB1iw"
      },
      "execution_count": null,
      "outputs": []
    },
    {
      "cell_type": "code",
      "source": [
        "img"
      ],
      "metadata": {
        "id": "_1DG4MhBNRDV",
        "colab": {
          "base_uri": "https://localhost:8080/",
          "height": 35
        },
        "outputId": "3f10ba4b-4f5f-4bcc-bceb-61d0c2824540"
      },
      "execution_count": null,
      "outputs": [
        {
          "output_type": "execute_result",
          "data": {
            "text/plain": [
              "'https://www.improvemagic.com/wp-content/uploads/2020/11/k4.png'"
            ],
            "application/vnd.google.colaboratory.intrinsic+json": {
              "type": "string"
            }
          },
          "metadata": {},
          "execution_count": 133
        }
      ]
    },
    {
      "cell_type": "code",
      "source": [
        "show_img(img)"
      ],
      "metadata": {
        "id": "Ve1UcoH3B5sS",
        "colab": {
          "base_uri": "https://localhost:8080/",
          "height": 333
        },
        "outputId": "05a227eb-f65e-4d1c-bfd8-b35e900a287d"
      },
      "execution_count": null,
      "outputs": [
        {
          "output_type": "display_data",
          "data": {
            "text/plain": [
              "<IPython.core.display.HTML object>"
            ],
            "text/html": [
              "<img src=https://www.improvemagic.com/wp-content/uploads/2020/11/k4.png>"
            ]
          },
          "metadata": {}
        }
      ]
    },
    {
      "cell_type": "code",
      "source": [
        "for i in range(52):\n",
        "    img = card_url_head + card_image(i) + card_url_tail\n",
        "    show_img(img)"
      ],
      "metadata": {
        "id": "UCervcFTB5ut",
        "colab": {
          "base_uri": "https://localhost:8080/",
          "height": 1000
        },
        "outputId": "fbac20d6-b763-4666-bc5c-eaedfa5c3e88"
      },
      "execution_count": null,
      "outputs": [
        {
          "output_type": "display_data",
          "data": {
            "text/plain": [
              "<IPython.core.display.HTML object>"
            ],
            "text/html": [
              "<img src=https://www.improvemagic.com/wp-content/uploads/2020/11/ka.png>"
            ]
          },
          "metadata": {}
        },
        {
          "output_type": "display_data",
          "data": {
            "text/plain": [
              "<IPython.core.display.HTML object>"
            ],
            "text/html": [
              "<img src=https://www.improvemagic.com/wp-content/uploads/2020/11/k2.png>"
            ]
          },
          "metadata": {}
        },
        {
          "output_type": "display_data",
          "data": {
            "text/plain": [
              "<IPython.core.display.HTML object>"
            ],
            "text/html": [
              "<img src=https://www.improvemagic.com/wp-content/uploads/2020/11/k3.png>"
            ]
          },
          "metadata": {}
        },
        {
          "output_type": "display_data",
          "data": {
            "text/plain": [
              "<IPython.core.display.HTML object>"
            ],
            "text/html": [
              "<img src=https://www.improvemagic.com/wp-content/uploads/2020/11/k4.png>"
            ]
          },
          "metadata": {}
        },
        {
          "output_type": "display_data",
          "data": {
            "text/plain": [
              "<IPython.core.display.HTML object>"
            ],
            "text/html": [
              "<img src=https://www.improvemagic.com/wp-content/uploads/2020/11/k5.png>"
            ]
          },
          "metadata": {}
        },
        {
          "output_type": "display_data",
          "data": {
            "text/plain": [
              "<IPython.core.display.HTML object>"
            ],
            "text/html": [
              "<img src=https://www.improvemagic.com/wp-content/uploads/2020/11/k6.png>"
            ]
          },
          "metadata": {}
        },
        {
          "output_type": "display_data",
          "data": {
            "text/plain": [
              "<IPython.core.display.HTML object>"
            ],
            "text/html": [
              "<img src=https://www.improvemagic.com/wp-content/uploads/2020/11/k7.png>"
            ]
          },
          "metadata": {}
        },
        {
          "output_type": "display_data",
          "data": {
            "text/plain": [
              "<IPython.core.display.HTML object>"
            ],
            "text/html": [
              "<img src=https://www.improvemagic.com/wp-content/uploads/2020/11/k8.png>"
            ]
          },
          "metadata": {}
        },
        {
          "output_type": "display_data",
          "data": {
            "text/plain": [
              "<IPython.core.display.HTML object>"
            ],
            "text/html": [
              "<img src=https://www.improvemagic.com/wp-content/uploads/2020/11/k9.png>"
            ]
          },
          "metadata": {}
        },
        {
          "output_type": "display_data",
          "data": {
            "text/plain": [
              "<IPython.core.display.HTML object>"
            ],
            "text/html": [
              "<img src=https://www.improvemagic.com/wp-content/uploads/2020/11/k10.png>"
            ]
          },
          "metadata": {}
        },
        {
          "output_type": "display_data",
          "data": {
            "text/plain": [
              "<IPython.core.display.HTML object>"
            ],
            "text/html": [
              "<img src=https://www.improvemagic.com/wp-content/uploads/2020/11/kj.png>"
            ]
          },
          "metadata": {}
        },
        {
          "output_type": "display_data",
          "data": {
            "text/plain": [
              "<IPython.core.display.HTML object>"
            ],
            "text/html": [
              "<img src=https://www.improvemagic.com/wp-content/uploads/2020/11/kq.png>"
            ]
          },
          "metadata": {}
        },
        {
          "output_type": "display_data",
          "data": {
            "text/plain": [
              "<IPython.core.display.HTML object>"
            ],
            "text/html": [
              "<img src=https://www.improvemagic.com/wp-content/uploads/2020/11/kk.png>"
            ]
          },
          "metadata": {}
        },
        {
          "output_type": "display_data",
          "data": {
            "text/plain": [
              "<IPython.core.display.HTML object>"
            ],
            "text/html": [
              "<img src=https://www.improvemagic.com/wp-content/uploads/2020/11/pa.png>"
            ]
          },
          "metadata": {}
        },
        {
          "output_type": "display_data",
          "data": {
            "text/plain": [
              "<IPython.core.display.HTML object>"
            ],
            "text/html": [
              "<img src=https://www.improvemagic.com/wp-content/uploads/2020/11/p2.png>"
            ]
          },
          "metadata": {}
        },
        {
          "output_type": "display_data",
          "data": {
            "text/plain": [
              "<IPython.core.display.HTML object>"
            ],
            "text/html": [
              "<img src=https://www.improvemagic.com/wp-content/uploads/2020/11/p3.png>"
            ]
          },
          "metadata": {}
        },
        {
          "output_type": "display_data",
          "data": {
            "text/plain": [
              "<IPython.core.display.HTML object>"
            ],
            "text/html": [
              "<img src=https://www.improvemagic.com/wp-content/uploads/2020/11/p4.png>"
            ]
          },
          "metadata": {}
        },
        {
          "output_type": "display_data",
          "data": {
            "text/plain": [
              "<IPython.core.display.HTML object>"
            ],
            "text/html": [
              "<img src=https://www.improvemagic.com/wp-content/uploads/2020/11/p5.png>"
            ]
          },
          "metadata": {}
        },
        {
          "output_type": "display_data",
          "data": {
            "text/plain": [
              "<IPython.core.display.HTML object>"
            ],
            "text/html": [
              "<img src=https://www.improvemagic.com/wp-content/uploads/2020/11/p6.png>"
            ]
          },
          "metadata": {}
        },
        {
          "output_type": "display_data",
          "data": {
            "text/plain": [
              "<IPython.core.display.HTML object>"
            ],
            "text/html": [
              "<img src=https://www.improvemagic.com/wp-content/uploads/2020/11/p7.png>"
            ]
          },
          "metadata": {}
        },
        {
          "output_type": "display_data",
          "data": {
            "text/plain": [
              "<IPython.core.display.HTML object>"
            ],
            "text/html": [
              "<img src=https://www.improvemagic.com/wp-content/uploads/2020/11/p8.png>"
            ]
          },
          "metadata": {}
        },
        {
          "output_type": "display_data",
          "data": {
            "text/plain": [
              "<IPython.core.display.HTML object>"
            ],
            "text/html": [
              "<img src=https://www.improvemagic.com/wp-content/uploads/2020/11/p9.png>"
            ]
          },
          "metadata": {}
        },
        {
          "output_type": "display_data",
          "data": {
            "text/plain": [
              "<IPython.core.display.HTML object>"
            ],
            "text/html": [
              "<img src=https://www.improvemagic.com/wp-content/uploads/2020/11/p10.png>"
            ]
          },
          "metadata": {}
        },
        {
          "output_type": "display_data",
          "data": {
            "text/plain": [
              "<IPython.core.display.HTML object>"
            ],
            "text/html": [
              "<img src=https://www.improvemagic.com/wp-content/uploads/2020/11/pj.png>"
            ]
          },
          "metadata": {}
        },
        {
          "output_type": "display_data",
          "data": {
            "text/plain": [
              "<IPython.core.display.HTML object>"
            ],
            "text/html": [
              "<img src=https://www.improvemagic.com/wp-content/uploads/2020/11/pq.png>"
            ]
          },
          "metadata": {}
        },
        {
          "output_type": "display_data",
          "data": {
            "text/plain": [
              "<IPython.core.display.HTML object>"
            ],
            "text/html": [
              "<img src=https://www.improvemagic.com/wp-content/uploads/2020/11/pk.png>"
            ]
          },
          "metadata": {}
        },
        {
          "output_type": "display_data",
          "data": {
            "text/plain": [
              "<IPython.core.display.HTML object>"
            ],
            "text/html": [
              "<img src=https://www.improvemagic.com/wp-content/uploads/2020/11/sa.png>"
            ]
          },
          "metadata": {}
        },
        {
          "output_type": "display_data",
          "data": {
            "text/plain": [
              "<IPython.core.display.HTML object>"
            ],
            "text/html": [
              "<img src=https://www.improvemagic.com/wp-content/uploads/2020/11/s2.png>"
            ]
          },
          "metadata": {}
        },
        {
          "output_type": "display_data",
          "data": {
            "text/plain": [
              "<IPython.core.display.HTML object>"
            ],
            "text/html": [
              "<img src=https://www.improvemagic.com/wp-content/uploads/2020/11/s3.png>"
            ]
          },
          "metadata": {}
        },
        {
          "output_type": "display_data",
          "data": {
            "text/plain": [
              "<IPython.core.display.HTML object>"
            ],
            "text/html": [
              "<img src=https://www.improvemagic.com/wp-content/uploads/2020/11/s4.png>"
            ]
          },
          "metadata": {}
        },
        {
          "output_type": "display_data",
          "data": {
            "text/plain": [
              "<IPython.core.display.HTML object>"
            ],
            "text/html": [
              "<img src=https://www.improvemagic.com/wp-content/uploads/2020/11/s5.png>"
            ]
          },
          "metadata": {}
        },
        {
          "output_type": "display_data",
          "data": {
            "text/plain": [
              "<IPython.core.display.HTML object>"
            ],
            "text/html": [
              "<img src=https://www.improvemagic.com/wp-content/uploads/2020/11/s6.png>"
            ]
          },
          "metadata": {}
        },
        {
          "output_type": "display_data",
          "data": {
            "text/plain": [
              "<IPython.core.display.HTML object>"
            ],
            "text/html": [
              "<img src=https://www.improvemagic.com/wp-content/uploads/2020/11/s7.png>"
            ]
          },
          "metadata": {}
        },
        {
          "output_type": "display_data",
          "data": {
            "text/plain": [
              "<IPython.core.display.HTML object>"
            ],
            "text/html": [
              "<img src=https://www.improvemagic.com/wp-content/uploads/2020/11/s8.png>"
            ]
          },
          "metadata": {}
        },
        {
          "output_type": "display_data",
          "data": {
            "text/plain": [
              "<IPython.core.display.HTML object>"
            ],
            "text/html": [
              "<img src=https://www.improvemagic.com/wp-content/uploads/2020/11/s9.png>"
            ]
          },
          "metadata": {}
        },
        {
          "output_type": "display_data",
          "data": {
            "text/plain": [
              "<IPython.core.display.HTML object>"
            ],
            "text/html": [
              "<img src=https://www.improvemagic.com/wp-content/uploads/2020/11/s10.png>"
            ]
          },
          "metadata": {}
        },
        {
          "output_type": "display_data",
          "data": {
            "text/plain": [
              "<IPython.core.display.HTML object>"
            ],
            "text/html": [
              "<img src=https://www.improvemagic.com/wp-content/uploads/2020/11/sj.png>"
            ]
          },
          "metadata": {}
        },
        {
          "output_type": "display_data",
          "data": {
            "text/plain": [
              "<IPython.core.display.HTML object>"
            ],
            "text/html": [
              "<img src=https://www.improvemagic.com/wp-content/uploads/2020/11/sq.png>"
            ]
          },
          "metadata": {}
        },
        {
          "output_type": "display_data",
          "data": {
            "text/plain": [
              "<IPython.core.display.HTML object>"
            ],
            "text/html": [
              "<img src=https://www.improvemagic.com/wp-content/uploads/2020/11/sk.png>"
            ]
          },
          "metadata": {}
        },
        {
          "output_type": "display_data",
          "data": {
            "text/plain": [
              "<IPython.core.display.HTML object>"
            ],
            "text/html": [
              "<img src=https://www.improvemagic.com/wp-content/uploads/2020/11/la.png>"
            ]
          },
          "metadata": {}
        },
        {
          "output_type": "display_data",
          "data": {
            "text/plain": [
              "<IPython.core.display.HTML object>"
            ],
            "text/html": [
              "<img src=https://www.improvemagic.com/wp-content/uploads/2020/11/l2.png>"
            ]
          },
          "metadata": {}
        },
        {
          "output_type": "display_data",
          "data": {
            "text/plain": [
              "<IPython.core.display.HTML object>"
            ],
            "text/html": [
              "<img src=https://www.improvemagic.com/wp-content/uploads/2020/11/l3.png>"
            ]
          },
          "metadata": {}
        },
        {
          "output_type": "display_data",
          "data": {
            "text/plain": [
              "<IPython.core.display.HTML object>"
            ],
            "text/html": [
              "<img src=https://www.improvemagic.com/wp-content/uploads/2020/11/l4.png>"
            ]
          },
          "metadata": {}
        },
        {
          "output_type": "display_data",
          "data": {
            "text/plain": [
              "<IPython.core.display.HTML object>"
            ],
            "text/html": [
              "<img src=https://www.improvemagic.com/wp-content/uploads/2020/11/l5.png>"
            ]
          },
          "metadata": {}
        },
        {
          "output_type": "display_data",
          "data": {
            "text/plain": [
              "<IPython.core.display.HTML object>"
            ],
            "text/html": [
              "<img src=https://www.improvemagic.com/wp-content/uploads/2020/11/l6.png>"
            ]
          },
          "metadata": {}
        },
        {
          "output_type": "display_data",
          "data": {
            "text/plain": [
              "<IPython.core.display.HTML object>"
            ],
            "text/html": [
              "<img src=https://www.improvemagic.com/wp-content/uploads/2020/11/l7.png>"
            ]
          },
          "metadata": {}
        },
        {
          "output_type": "display_data",
          "data": {
            "text/plain": [
              "<IPython.core.display.HTML object>"
            ],
            "text/html": [
              "<img src=https://www.improvemagic.com/wp-content/uploads/2020/11/l8.png>"
            ]
          },
          "metadata": {}
        },
        {
          "output_type": "display_data",
          "data": {
            "text/plain": [
              "<IPython.core.display.HTML object>"
            ],
            "text/html": [
              "<img src=https://www.improvemagic.com/wp-content/uploads/2020/11/l9.png>"
            ]
          },
          "metadata": {}
        },
        {
          "output_type": "display_data",
          "data": {
            "text/plain": [
              "<IPython.core.display.HTML object>"
            ],
            "text/html": [
              "<img src=https://www.improvemagic.com/wp-content/uploads/2020/11/l10.png>"
            ]
          },
          "metadata": {}
        },
        {
          "output_type": "display_data",
          "data": {
            "text/plain": [
              "<IPython.core.display.HTML object>"
            ],
            "text/html": [
              "<img src=https://www.improvemagic.com/wp-content/uploads/2020/11/lj.png>"
            ]
          },
          "metadata": {}
        },
        {
          "output_type": "display_data",
          "data": {
            "text/plain": [
              "<IPython.core.display.HTML object>"
            ],
            "text/html": [
              "<img src=https://www.improvemagic.com/wp-content/uploads/2020/11/lq.png>"
            ]
          },
          "metadata": {}
        },
        {
          "output_type": "display_data",
          "data": {
            "text/plain": [
              "<IPython.core.display.HTML object>"
            ],
            "text/html": [
              "<img src=https://www.improvemagic.com/wp-content/uploads/2020/11/lk.png>"
            ]
          },
          "metadata": {}
        }
      ]
    },
    {
      "cell_type": "code",
      "source": [
        "import random\n",
        "\n",
        "def initialize_deck():\n",
        "    #Create and shuffle a deck of 52 cards represented by numbers 0-51.\n",
        "    deck = list(range(52))\n",
        "    random.shuffle(deck)\n",
        "    return deck\n",
        "\n",
        "def draw_cards(deck, top_index, num=5):\n",
        "    drawn_cards = deck[top_index:top_index + num]\n",
        "    return drawn_cards, top_index + num\n",
        "\n",
        "# Initialize and shuffle the deck\n",
        "deck = initialize_deck()\n",
        "top_index = 0  # Start at the beginning of the deck"
      ],
      "metadata": {
        "id": "XiZJmBheIPfo"
      },
      "execution_count": null,
      "outputs": []
    },
    {
      "cell_type": "code",
      "source": [
        "deck"
      ],
      "metadata": {
        "id": "Xa8Sgnm_Z20Z",
        "colab": {
          "base_uri": "https://localhost:8080/"
        },
        "outputId": "f9a5b99e-9865-4780-ce4f-fe4f4ab79b1d"
      },
      "execution_count": null,
      "outputs": [
        {
          "output_type": "execute_result",
          "data": {
            "text/plain": [
              "[20,\n",
              " 36,\n",
              " 34,\n",
              " 27,\n",
              " 25,\n",
              " 51,\n",
              " 6,\n",
              " 8,\n",
              " 28,\n",
              " 29,\n",
              " 16,\n",
              " 11,\n",
              " 4,\n",
              " 12,\n",
              " 45,\n",
              " 38,\n",
              " 14,\n",
              " 0,\n",
              " 5,\n",
              " 18,\n",
              " 43,\n",
              " 1,\n",
              " 26,\n",
              " 39,\n",
              " 48,\n",
              " 13,\n",
              " 46,\n",
              " 31,\n",
              " 47,\n",
              " 2,\n",
              " 42,\n",
              " 24,\n",
              " 35,\n",
              " 3,\n",
              " 23,\n",
              " 19,\n",
              " 33,\n",
              " 30,\n",
              " 7,\n",
              " 10,\n",
              " 32,\n",
              " 49,\n",
              " 15,\n",
              " 37,\n",
              " 50,\n",
              " 9,\n",
              " 17,\n",
              " 40,\n",
              " 22,\n",
              " 21,\n",
              " 41,\n",
              " 44]"
            ]
          },
          "metadata": {},
          "execution_count": 137
        }
      ]
    },
    {
      "cell_type": "code",
      "source": [
        "# Draw 5 cards for a poker hand\n",
        "hand, top_index = draw_cards(deck, top_index, 5)"
      ],
      "metadata": {
        "id": "-o6dg7HgZyY-"
      },
      "execution_count": null,
      "outputs": []
    },
    {
      "cell_type": "code",
      "source": [
        "hand"
      ],
      "metadata": {
        "id": "yD7PXNOEZz6y",
        "colab": {
          "base_uri": "https://localhost:8080/"
        },
        "outputId": "b85589a2-e762-4e01-c48c-984dae966925"
      },
      "execution_count": null,
      "outputs": [
        {
          "output_type": "execute_result",
          "data": {
            "text/plain": [
              "[20, 36, 34, 27, 25]"
            ]
          },
          "metadata": {},
          "execution_count": 139
        }
      ]
    },
    {
      "cell_type": "code",
      "source": [
        "hand, top_index = draw_cards(deck, top_index, 5)"
      ],
      "metadata": {
        "id": "p2k3mE9VZvlL"
      },
      "execution_count": null,
      "outputs": []
    },
    {
      "cell_type": "code",
      "source": [
        "hand"
      ],
      "metadata": {
        "id": "CON4qPmYZ1Cy"
      },
      "execution_count": null,
      "outputs": []
    },
    {
      "cell_type": "code",
      "source": [
        "# Display the hand\n",
        "for card_number in hand:\n",
        "    img_url = card_url_head + card_image(card_number) + card_url_tail\n",
        "    show_img(img_url)"
      ],
      "metadata": {
        "id": "RJC98zl-YDi1"
      },
      "execution_count": null,
      "outputs": []
    },
    {
      "cell_type": "code",
      "source": [
        "def show_hand(hand):\n",
        "    images_html = ''.join([f'<img src=\"{card_url_head + card_image(card_number) + card_url_tail}\" style=\"display:inline-block; margin:5px;\" />' for card_number in hand])\n",
        "    display(HTML(images_html))\n",
        "\n",
        "show_hand(hand)\n"
      ],
      "metadata": {
        "id": "JMciwLZZYfAA",
        "colab": {
          "base_uri": "https://localhost:8080/",
          "height": 344
        },
        "outputId": "cc40108d-7ca9-476e-ad58-ce59de8294db"
      },
      "execution_count": null,
      "outputs": [
        {
          "output_type": "display_data",
          "data": {
            "text/plain": [
              "<IPython.core.display.HTML object>"
            ],
            "text/html": [
              "<img src=\"https://www.improvemagic.com/wp-content/uploads/2020/11/kj.png\" style=\"display:inline-block; margin:5px;\" /><img src=\"https://www.improvemagic.com/wp-content/uploads/2020/11/l4.png\" style=\"display:inline-block; margin:5px;\" /><img src=\"https://www.improvemagic.com/wp-content/uploads/2020/11/p5.png\" style=\"display:inline-block; margin:5px;\" /><img src=\"https://www.improvemagic.com/wp-content/uploads/2020/11/k4.png\" style=\"display:inline-block; margin:5px;\" /><img src=\"https://www.improvemagic.com/wp-content/uploads/2020/11/l5.png\" style=\"display:inline-block; margin:5px;\" />"
            ]
          },
          "metadata": {}
        }
      ]
    },
    {
      "cell_type": "code",
      "source": [],
      "metadata": {
        "id": "4pSVdfBDaESe"
      },
      "execution_count": null,
      "outputs": []
    },
    {
      "cell_type": "code",
      "source": [],
      "metadata": {
        "id": "CIyFI0YraEZ2"
      },
      "execution_count": null,
      "outputs": []
    },
    {
      "cell_type": "markdown",
      "source": [
        "# Rank Hand"
      ],
      "metadata": {
        "id": "P8xGcQSuauDT"
      }
    },
    {
      "cell_type": "code",
      "source": [
        "def evaluate_hand(hand):\n",
        "    rank_values = {'2': 2, '3': 3, '4': 4, '5': 5, '6': 6, '7': 7, '8': 8, '9': 9, '10': 10, 'j': 11, 'q': 12, 'k': 13, 'a': 14}\n",
        "    suits = ['k', 'p', 's', 'l']  # clubs, spades, hearts, diamonds\n",
        "\n",
        "    # Convert the hand to a list of (rank, suit) tuples\n",
        "    converted_hand = [(rank_values[card[card_number % 13]], suits[card_number // 13]) for card_number in hand]\n",
        "    converted_hand.sort()\n",
        "\n",
        "    rank_counts = {rank: 0 for rank in rank_values.values()}\n",
        "    suit_counts = {suit: 0 for suit in suits}\n",
        "    for rank, suit in converted_hand:\n",
        "        rank_counts[rank] += 1\n",
        "        suit_counts[suit] += 1\n",
        "\n",
        "    # Check for flush\n",
        "    is_flush = max(suit_counts.values()) == 5\n",
        "\n",
        "    # Check for straight and royal flush\n",
        "    rank_sequence = [rank for rank, _ in converted_hand]\n",
        "    is_straight = all(rank_sequence[i] - rank_sequence[i - 1] == 1 for i in range(1, 5))\n",
        "    is_royal = is_straight and rank_sequence[0] == 10\n",
        "\n",
        "    # Check for other hand types\n",
        "    pairs = sum(1 for count in rank_counts.values() if count == 2)\n",
        "    three_of_a_kind = 3 in rank_counts.values()\n",
        "    four_of_a_kind = 4 in rank_counts.values()\n",
        "\n",
        "    if is_royal and is_flush:\n",
        "        return \"Royal Flush\"\n",
        "    elif is_straight and is_flush:\n",
        "        return \"Straight Flush\"\n",
        "    elif four_of_a_kind:\n",
        "        return \"Four of a Kind\"\n",
        "    elif three_of_a_kind and pairs == 1:\n",
        "        return \"Full House\"\n",
        "    elif is_flush:\n",
        "        return \"Flush\"\n",
        "    elif is_straight:\n",
        "        return \"Straight\"\n",
        "    elif three_of_a_kind:\n",
        "        return \"Three of a Kind\"\n",
        "    elif pairs == 2:\n",
        "        return \"Two Pair\"\n",
        "    elif pairs == 1:\n",
        "        return \"One Pair\"\n",
        "    else:\n",
        "        return \"High Card\""
      ],
      "metadata": {
        "id": "5X7L14IXXwB1"
      },
      "execution_count": null,
      "outputs": []
    },
    {
      "cell_type": "code",
      "source": [],
      "metadata": {
        "id": "88Ln53YKaPFs"
      },
      "execution_count": null,
      "outputs": []
    },
    {
      "cell_type": "code",
      "source": [
        "# Initialize and shuffle the deck\n",
        "deck = initialize_deck()\n",
        "top_index = 0  # Start at the beginning of the deck\n",
        "\n",
        "hand, top_index = draw_cards(deck, top_index, 5)\n",
        "\n",
        "\n",
        "print(evaluate_hand(hand))\n",
        "show_hand(hand)"
      ],
      "metadata": {
        "id": "9n4BkXCgaPIN",
        "colab": {
          "base_uri": "https://localhost:8080/",
          "height": 362
        },
        "outputId": "2b4b5998-209f-4519-8f94-f6e5b1a1fab1"
      },
      "execution_count": null,
      "outputs": [
        {
          "output_type": "stream",
          "name": "stdout",
          "text": [
            "One Pair\n"
          ]
        },
        {
          "output_type": "display_data",
          "data": {
            "text/plain": [
              "<IPython.core.display.HTML object>"
            ],
            "text/html": [
              "<img src=\"https://www.improvemagic.com/wp-content/uploads/2020/11/pj.png\" style=\"display:inline-block; margin:5px;\" /><img src=\"https://www.improvemagic.com/wp-content/uploads/2020/11/sj.png\" style=\"display:inline-block; margin:5px;\" /><img src=\"https://www.improvemagic.com/wp-content/uploads/2020/11/p9.png\" style=\"display:inline-block; margin:5px;\" /><img src=\"https://www.improvemagic.com/wp-content/uploads/2020/11/k2.png\" style=\"display:inline-block; margin:5px;\" /><img src=\"https://www.improvemagic.com/wp-content/uploads/2020/11/sk.png\" style=\"display:inline-block; margin:5px;\" />"
            ]
          },
          "metadata": {}
        }
      ]
    },
    {
      "cell_type": "code",
      "source": [],
      "metadata": {
        "id": "Gvkbf51BYrQN"
      },
      "execution_count": null,
      "outputs": []
    },
    {
      "cell_type": "code",
      "source": [
        "for i in range(10):\n",
        "    # Initialize and shuffle the deck\n",
        "    deck = initialize_deck()\n",
        "    top_index = 0  # Start at the beginning of the deck\n",
        "\n",
        "    hand, top_index = draw_cards(deck, top_index, 5)\n",
        "\n",
        "\n",
        "    print(evaluate_hand(hand))\n",
        "    show_hand(hand)"
      ],
      "metadata": {
        "id": "3Nio0wmHajqT",
        "colab": {
          "base_uri": "https://localhost:8080/",
          "height": 1000
        },
        "outputId": "9e0b6a4d-e755-4afd-9faa-1d30d01cae3a"
      },
      "execution_count": null,
      "outputs": [
        {
          "output_type": "stream",
          "name": "stdout",
          "text": [
            "High Card\n"
          ]
        },
        {
          "output_type": "display_data",
          "data": {
            "text/plain": [
              "<IPython.core.display.HTML object>"
            ],
            "text/html": [
              "<img src=\"https://www.improvemagic.com/wp-content/uploads/2020/11/s3.png\" style=\"display:inline-block; margin:5px;\" /><img src=\"https://www.improvemagic.com/wp-content/uploads/2020/11/l10.png\" style=\"display:inline-block; margin:5px;\" /><img src=\"https://www.improvemagic.com/wp-content/uploads/2020/11/sk.png\" style=\"display:inline-block; margin:5px;\" /><img src=\"https://www.improvemagic.com/wp-content/uploads/2020/11/s7.png\" style=\"display:inline-block; margin:5px;\" /><img src=\"https://www.improvemagic.com/wp-content/uploads/2020/11/k9.png\" style=\"display:inline-block; margin:5px;\" />"
            ]
          },
          "metadata": {}
        },
        {
          "output_type": "stream",
          "name": "stdout",
          "text": [
            "One Pair\n"
          ]
        },
        {
          "output_type": "display_data",
          "data": {
            "text/plain": [
              "<IPython.core.display.HTML object>"
            ],
            "text/html": [
              "<img src=\"https://www.improvemagic.com/wp-content/uploads/2020/11/l4.png\" style=\"display:inline-block; margin:5px;\" /><img src=\"https://www.improvemagic.com/wp-content/uploads/2020/11/pj.png\" style=\"display:inline-block; margin:5px;\" /><img src=\"https://www.improvemagic.com/wp-content/uploads/2020/11/l9.png\" style=\"display:inline-block; margin:5px;\" /><img src=\"https://www.improvemagic.com/wp-content/uploads/2020/11/k7.png\" style=\"display:inline-block; margin:5px;\" /><img src=\"https://www.improvemagic.com/wp-content/uploads/2020/11/l7.png\" style=\"display:inline-block; margin:5px;\" />"
            ]
          },
          "metadata": {}
        },
        {
          "output_type": "stream",
          "name": "stdout",
          "text": [
            "High Card\n"
          ]
        },
        {
          "output_type": "display_data",
          "data": {
            "text/plain": [
              "<IPython.core.display.HTML object>"
            ],
            "text/html": [
              "<img src=\"https://www.improvemagic.com/wp-content/uploads/2020/11/k9.png\" style=\"display:inline-block; margin:5px;\" /><img src=\"https://www.improvemagic.com/wp-content/uploads/2020/11/k7.png\" style=\"display:inline-block; margin:5px;\" /><img src=\"https://www.improvemagic.com/wp-content/uploads/2020/11/p6.png\" style=\"display:inline-block; margin:5px;\" /><img src=\"https://www.improvemagic.com/wp-content/uploads/2020/11/p3.png\" style=\"display:inline-block; margin:5px;\" /><img src=\"https://www.improvemagic.com/wp-content/uploads/2020/11/lk.png\" style=\"display:inline-block; margin:5px;\" />"
            ]
          },
          "metadata": {}
        },
        {
          "output_type": "stream",
          "name": "stdout",
          "text": [
            "High Card\n"
          ]
        },
        {
          "output_type": "display_data",
          "data": {
            "text/plain": [
              "<IPython.core.display.HTML object>"
            ],
            "text/html": [
              "<img src=\"https://www.improvemagic.com/wp-content/uploads/2020/11/sq.png\" style=\"display:inline-block; margin:5px;\" /><img src=\"https://www.improvemagic.com/wp-content/uploads/2020/11/l4.png\" style=\"display:inline-block; margin:5px;\" /><img src=\"https://www.improvemagic.com/wp-content/uploads/2020/11/l8.png\" style=\"display:inline-block; margin:5px;\" /><img src=\"https://www.improvemagic.com/wp-content/uploads/2020/11/s6.png\" style=\"display:inline-block; margin:5px;\" /><img src=\"https://www.improvemagic.com/wp-content/uploads/2020/11/s5.png\" style=\"display:inline-block; margin:5px;\" />"
            ]
          },
          "metadata": {}
        },
        {
          "output_type": "stream",
          "name": "stdout",
          "text": [
            "High Card\n"
          ]
        },
        {
          "output_type": "display_data",
          "data": {
            "text/plain": [
              "<IPython.core.display.HTML object>"
            ],
            "text/html": [
              "<img src=\"https://www.improvemagic.com/wp-content/uploads/2020/11/kj.png\" style=\"display:inline-block; margin:5px;\" /><img src=\"https://www.improvemagic.com/wp-content/uploads/2020/11/p7.png\" style=\"display:inline-block; margin:5px;\" /><img src=\"https://www.improvemagic.com/wp-content/uploads/2020/11/p6.png\" style=\"display:inline-block; margin:5px;\" /><img src=\"https://www.improvemagic.com/wp-content/uploads/2020/11/k2.png\" style=\"display:inline-block; margin:5px;\" /><img src=\"https://www.improvemagic.com/wp-content/uploads/2020/11/l3.png\" style=\"display:inline-block; margin:5px;\" />"
            ]
          },
          "metadata": {}
        },
        {
          "output_type": "stream",
          "name": "stdout",
          "text": [
            "One Pair\n"
          ]
        },
        {
          "output_type": "display_data",
          "data": {
            "text/plain": [
              "<IPython.core.display.HTML object>"
            ],
            "text/html": [
              "<img src=\"https://www.improvemagic.com/wp-content/uploads/2020/11/s4.png\" style=\"display:inline-block; margin:5px;\" /><img src=\"https://www.improvemagic.com/wp-content/uploads/2020/11/k6.png\" style=\"display:inline-block; margin:5px;\" /><img src=\"https://www.improvemagic.com/wp-content/uploads/2020/11/ka.png\" style=\"display:inline-block; margin:5px;\" /><img src=\"https://www.improvemagic.com/wp-content/uploads/2020/11/s2.png\" style=\"display:inline-block; margin:5px;\" /><img src=\"https://www.improvemagic.com/wp-content/uploads/2020/11/p4.png\" style=\"display:inline-block; margin:5px;\" />"
            ]
          },
          "metadata": {}
        },
        {
          "output_type": "stream",
          "name": "stdout",
          "text": [
            "One Pair\n"
          ]
        },
        {
          "output_type": "display_data",
          "data": {
            "text/plain": [
              "<IPython.core.display.HTML object>"
            ],
            "text/html": [
              "<img src=\"https://www.improvemagic.com/wp-content/uploads/2020/11/s10.png\" style=\"display:inline-block; margin:5px;\" /><img src=\"https://www.improvemagic.com/wp-content/uploads/2020/11/s6.png\" style=\"display:inline-block; margin:5px;\" /><img src=\"https://www.improvemagic.com/wp-content/uploads/2020/11/p3.png\" style=\"display:inline-block; margin:5px;\" /><img src=\"https://www.improvemagic.com/wp-content/uploads/2020/11/kk.png\" style=\"display:inline-block; margin:5px;\" /><img src=\"https://www.improvemagic.com/wp-content/uploads/2020/11/l6.png\" style=\"display:inline-block; margin:5px;\" />"
            ]
          },
          "metadata": {}
        },
        {
          "output_type": "stream",
          "name": "stdout",
          "text": [
            "High Card\n"
          ]
        },
        {
          "output_type": "display_data",
          "data": {
            "text/plain": [
              "<IPython.core.display.HTML object>"
            ],
            "text/html": [
              "<img src=\"https://www.improvemagic.com/wp-content/uploads/2020/11/lk.png\" style=\"display:inline-block; margin:5px;\" /><img src=\"https://www.improvemagic.com/wp-content/uploads/2020/11/p4.png\" style=\"display:inline-block; margin:5px;\" /><img src=\"https://www.improvemagic.com/wp-content/uploads/2020/11/kj.png\" style=\"display:inline-block; margin:5px;\" /><img src=\"https://www.improvemagic.com/wp-content/uploads/2020/11/k7.png\" style=\"display:inline-block; margin:5px;\" /><img src=\"https://www.improvemagic.com/wp-content/uploads/2020/11/lq.png\" style=\"display:inline-block; margin:5px;\" />"
            ]
          },
          "metadata": {}
        },
        {
          "output_type": "stream",
          "name": "stdout",
          "text": [
            "One Pair\n"
          ]
        },
        {
          "output_type": "display_data",
          "data": {
            "text/plain": [
              "<IPython.core.display.HTML object>"
            ],
            "text/html": [
              "<img src=\"https://www.improvemagic.com/wp-content/uploads/2020/11/k5.png\" style=\"display:inline-block; margin:5px;\" /><img src=\"https://www.improvemagic.com/wp-content/uploads/2020/11/sk.png\" style=\"display:inline-block; margin:5px;\" /><img src=\"https://www.improvemagic.com/wp-content/uploads/2020/11/p3.png\" style=\"display:inline-block; margin:5px;\" /><img src=\"https://www.improvemagic.com/wp-content/uploads/2020/11/p5.png\" style=\"display:inline-block; margin:5px;\" /><img src=\"https://www.improvemagic.com/wp-content/uploads/2020/11/k2.png\" style=\"display:inline-block; margin:5px;\" />"
            ]
          },
          "metadata": {}
        },
        {
          "output_type": "stream",
          "name": "stdout",
          "text": [
            "High Card\n"
          ]
        },
        {
          "output_type": "display_data",
          "data": {
            "text/plain": [
              "<IPython.core.display.HTML object>"
            ],
            "text/html": [
              "<img src=\"https://www.improvemagic.com/wp-content/uploads/2020/11/p8.png\" style=\"display:inline-block; margin:5px;\" /><img src=\"https://www.improvemagic.com/wp-content/uploads/2020/11/l5.png\" style=\"display:inline-block; margin:5px;\" /><img src=\"https://www.improvemagic.com/wp-content/uploads/2020/11/pj.png\" style=\"display:inline-block; margin:5px;\" /><img src=\"https://www.improvemagic.com/wp-content/uploads/2020/11/p9.png\" style=\"display:inline-block; margin:5px;\" /><img src=\"https://www.improvemagic.com/wp-content/uploads/2020/11/k10.png\" style=\"display:inline-block; margin:5px;\" />"
            ]
          },
          "metadata": {}
        }
      ]
    },
    {
      "cell_type": "code",
      "source": [],
      "metadata": {
        "id": "vJSv5gqMYwpD"
      },
      "execution_count": null,
      "outputs": []
    },
    {
      "cell_type": "code",
      "source": [
        "for i in range(100):\n",
        "    # Initialize and shuffle the deck\n",
        "    deck = initialize_deck()\n",
        "    top_index = 0  # Start at the beginning of the deck\n",
        "\n",
        "    hand, top_index = draw_cards(deck, top_index, 5)\n",
        "\n",
        "    if evaluate_hand(hand) == \"Two Pair\":\n",
        "        print(\"Winner!\")\n",
        "        show_hand(hand)"
      ],
      "metadata": {
        "id": "4fjPFjdOYySY",
        "colab": {
          "base_uri": "https://localhost:8080/",
          "height": 1000
        },
        "outputId": "deb0fec0-be48-4bb6-ffb0-77ba2149a656"
      },
      "execution_count": null,
      "outputs": [
        {
          "output_type": "stream",
          "name": "stdout",
          "text": [
            "Winner!\n"
          ]
        },
        {
          "output_type": "display_data",
          "data": {
            "text/plain": [
              "<IPython.core.display.HTML object>"
            ],
            "text/html": [
              "<img src=\"https://www.improvemagic.com/wp-content/uploads/2020/11/pa.png\" style=\"display:inline-block; margin:5px;\" /><img src=\"https://www.improvemagic.com/wp-content/uploads/2020/11/ka.png\" style=\"display:inline-block; margin:5px;\" /><img src=\"https://www.improvemagic.com/wp-content/uploads/2020/11/pq.png\" style=\"display:inline-block; margin:5px;\" /><img src=\"https://www.improvemagic.com/wp-content/uploads/2020/11/s5.png\" style=\"display:inline-block; margin:5px;\" /><img src=\"https://www.improvemagic.com/wp-content/uploads/2020/11/sq.png\" style=\"display:inline-block; margin:5px;\" />"
            ]
          },
          "metadata": {}
        },
        {
          "output_type": "stream",
          "name": "stdout",
          "text": [
            "Winner!\n"
          ]
        },
        {
          "output_type": "display_data",
          "data": {
            "text/plain": [
              "<IPython.core.display.HTML object>"
            ],
            "text/html": [
              "<img src=\"https://www.improvemagic.com/wp-content/uploads/2020/11/s8.png\" style=\"display:inline-block; margin:5px;\" /><img src=\"https://www.improvemagic.com/wp-content/uploads/2020/11/s9.png\" style=\"display:inline-block; margin:5px;\" /><img src=\"https://www.improvemagic.com/wp-content/uploads/2020/11/k6.png\" style=\"display:inline-block; margin:5px;\" /><img src=\"https://www.improvemagic.com/wp-content/uploads/2020/11/p9.png\" style=\"display:inline-block; margin:5px;\" /><img src=\"https://www.improvemagic.com/wp-content/uploads/2020/11/p8.png\" style=\"display:inline-block; margin:5px;\" />"
            ]
          },
          "metadata": {}
        },
        {
          "output_type": "stream",
          "name": "stdout",
          "text": [
            "Winner!\n"
          ]
        },
        {
          "output_type": "display_data",
          "data": {
            "text/plain": [
              "<IPython.core.display.HTML object>"
            ],
            "text/html": [
              "<img src=\"https://www.improvemagic.com/wp-content/uploads/2020/11/s2.png\" style=\"display:inline-block; margin:5px;\" /><img src=\"https://www.improvemagic.com/wp-content/uploads/2020/11/s6.png\" style=\"display:inline-block; margin:5px;\" /><img src=\"https://www.improvemagic.com/wp-content/uploads/2020/11/l10.png\" style=\"display:inline-block; margin:5px;\" /><img src=\"https://www.improvemagic.com/wp-content/uploads/2020/11/k10.png\" style=\"display:inline-block; margin:5px;\" /><img src=\"https://www.improvemagic.com/wp-content/uploads/2020/11/p6.png\" style=\"display:inline-block; margin:5px;\" />"
            ]
          },
          "metadata": {}
        }
      ]
    },
    {
      "cell_type": "code",
      "source": [],
      "metadata": {
        "id": "aZ-ii6TCbps5"
      },
      "execution_count": null,
      "outputs": []
    },
    {
      "cell_type": "code",
      "source": [
        "for i in range(1000):\n",
        "    # Initialize and shuffle the deck\n",
        "    deck = initialize_deck()\n",
        "    top_index = 0  # Start at the beginning of the deck\n",
        "\n",
        "    hand, top_index = draw_cards(deck, top_index, 5)\n",
        "\n",
        "    if evaluate_hand(hand) == \"Flush\":\n",
        "        print(\"Winner!\")\n",
        "        show_hand(hand)"
      ],
      "metadata": {
        "id": "ELMqN8vmbp5h",
        "colab": {
          "base_uri": "https://localhost:8080/",
          "height": 1000
        },
        "outputId": "c39fefff-62f7-4070-a9f0-1a3054b534dd"
      },
      "execution_count": null,
      "outputs": [
        {
          "output_type": "stream",
          "name": "stdout",
          "text": [
            "Winner!\n"
          ]
        },
        {
          "output_type": "display_data",
          "data": {
            "text/plain": [
              "<IPython.core.display.HTML object>"
            ],
            "text/html": [
              "<img src=\"https://www.improvemagic.com/wp-content/uploads/2020/11/p4.png\" style=\"display:inline-block; margin:5px;\" /><img src=\"https://www.improvemagic.com/wp-content/uploads/2020/11/p8.png\" style=\"display:inline-block; margin:5px;\" /><img src=\"https://www.improvemagic.com/wp-content/uploads/2020/11/pk.png\" style=\"display:inline-block; margin:5px;\" /><img src=\"https://www.improvemagic.com/wp-content/uploads/2020/11/pj.png\" style=\"display:inline-block; margin:5px;\" /><img src=\"https://www.improvemagic.com/wp-content/uploads/2020/11/p3.png\" style=\"display:inline-block; margin:5px;\" />"
            ]
          },
          "metadata": {}
        },
        {
          "output_type": "stream",
          "name": "stdout",
          "text": [
            "Winner!\n"
          ]
        },
        {
          "output_type": "display_data",
          "data": {
            "text/plain": [
              "<IPython.core.display.HTML object>"
            ],
            "text/html": [
              "<img src=\"https://www.improvemagic.com/wp-content/uploads/2020/11/la.png\" style=\"display:inline-block; margin:5px;\" /><img src=\"https://www.improvemagic.com/wp-content/uploads/2020/11/lj.png\" style=\"display:inline-block; margin:5px;\" /><img src=\"https://www.improvemagic.com/wp-content/uploads/2020/11/l6.png\" style=\"display:inline-block; margin:5px;\" /><img src=\"https://www.improvemagic.com/wp-content/uploads/2020/11/l5.png\" style=\"display:inline-block; margin:5px;\" /><img src=\"https://www.improvemagic.com/wp-content/uploads/2020/11/l4.png\" style=\"display:inline-block; margin:5px;\" />"
            ]
          },
          "metadata": {}
        },
        {
          "output_type": "stream",
          "name": "stdout",
          "text": [
            "Winner!\n"
          ]
        },
        {
          "output_type": "display_data",
          "data": {
            "text/plain": [
              "<IPython.core.display.HTML object>"
            ],
            "text/html": [
              "<img src=\"https://www.improvemagic.com/wp-content/uploads/2020/11/p8.png\" style=\"display:inline-block; margin:5px;\" /><img src=\"https://www.improvemagic.com/wp-content/uploads/2020/11/pq.png\" style=\"display:inline-block; margin:5px;\" /><img src=\"https://www.improvemagic.com/wp-content/uploads/2020/11/p9.png\" style=\"display:inline-block; margin:5px;\" /><img src=\"https://www.improvemagic.com/wp-content/uploads/2020/11/p7.png\" style=\"display:inline-block; margin:5px;\" /><img src=\"https://www.improvemagic.com/wp-content/uploads/2020/11/p4.png\" style=\"display:inline-block; margin:5px;\" />"
            ]
          },
          "metadata": {}
        },
        {
          "output_type": "stream",
          "name": "stdout",
          "text": [
            "Winner!\n"
          ]
        },
        {
          "output_type": "display_data",
          "data": {
            "text/plain": [
              "<IPython.core.display.HTML object>"
            ],
            "text/html": [
              "<img src=\"https://www.improvemagic.com/wp-content/uploads/2020/11/s3.png\" style=\"display:inline-block; margin:5px;\" /><img src=\"https://www.improvemagic.com/wp-content/uploads/2020/11/s10.png\" style=\"display:inline-block; margin:5px;\" /><img src=\"https://www.improvemagic.com/wp-content/uploads/2020/11/s4.png\" style=\"display:inline-block; margin:5px;\" /><img src=\"https://www.improvemagic.com/wp-content/uploads/2020/11/s7.png\" style=\"display:inline-block; margin:5px;\" /><img src=\"https://www.improvemagic.com/wp-content/uploads/2020/11/s6.png\" style=\"display:inline-block; margin:5px;\" />"
            ]
          },
          "metadata": {}
        },
        {
          "output_type": "stream",
          "name": "stdout",
          "text": [
            "Winner!\n"
          ]
        },
        {
          "output_type": "display_data",
          "data": {
            "text/plain": [
              "<IPython.core.display.HTML object>"
            ],
            "text/html": [
              "<img src=\"https://www.improvemagic.com/wp-content/uploads/2020/11/l10.png\" style=\"display:inline-block; margin:5px;\" /><img src=\"https://www.improvemagic.com/wp-content/uploads/2020/11/l2.png\" style=\"display:inline-block; margin:5px;\" /><img src=\"https://www.improvemagic.com/wp-content/uploads/2020/11/l7.png\" style=\"display:inline-block; margin:5px;\" /><img src=\"https://www.improvemagic.com/wp-content/uploads/2020/11/lq.png\" style=\"display:inline-block; margin:5px;\" /><img src=\"https://www.improvemagic.com/wp-content/uploads/2020/11/l6.png\" style=\"display:inline-block; margin:5px;\" />"
            ]
          },
          "metadata": {}
        }
      ]
    },
    {
      "cell_type": "code",
      "source": [
        "%%timeit\n",
        "# Initialize and shuffle the deck\n",
        "deck = initialize_deck()\n",
        "top_index = 0  # Start at the beginning of the deck\n",
        "\n",
        "hand, top_index = draw_cards(deck, top_index, 5)\n",
        "\n",
        "if evaluate_hand(hand) == \"Royal Flush\":\n",
        "    print(\"Winner!\")\n",
        "    show_hand(hand)"
      ],
      "metadata": {
        "id": "Hiwjc2wDcA-W",
        "colab": {
          "base_uri": "https://localhost:8080/",
          "height": 380
        },
        "outputId": "1ae0ee8d-7abd-497b-8b58-067cb0150c84"
      },
      "execution_count": null,
      "outputs": [
        {
          "output_type": "stream",
          "name": "stdout",
          "text": [
            "Winner!\n"
          ]
        },
        {
          "output_type": "display_data",
          "data": {
            "text/plain": [
              "<IPython.core.display.HTML object>"
            ],
            "text/html": [
              "<img src=\"https://www.improvemagic.com/wp-content/uploads/2020/11/pq.png\" style=\"display:inline-block; margin:5px;\" /><img src=\"https://www.improvemagic.com/wp-content/uploads/2020/11/pk.png\" style=\"display:inline-block; margin:5px;\" /><img src=\"https://www.improvemagic.com/wp-content/uploads/2020/11/pj.png\" style=\"display:inline-block; margin:5px;\" /><img src=\"https://www.improvemagic.com/wp-content/uploads/2020/11/pa.png\" style=\"display:inline-block; margin:5px;\" /><img src=\"https://www.improvemagic.com/wp-content/uploads/2020/11/p10.png\" style=\"display:inline-block; margin:5px;\" />"
            ]
          },
          "metadata": {}
        },
        {
          "output_type": "stream",
          "name": "stdout",
          "text": [
            "34.9 µs ± 713 ns per loop (mean ± std. dev. of 7 runs, 10000 loops each)\n"
          ]
        }
      ]
    },
    {
      "cell_type": "code",
      "source": [
        "for i in range(1000000):\n",
        "    # Initialize and shuffle the deck\n",
        "    deck = initialize_deck()\n",
        "    top_index = 0  # Start at the beginning of the deck\n",
        "\n",
        "    hand, top_index = draw_cards(deck, top_index, 5)\n",
        "\n",
        "    if evaluate_hand(hand) == \"Royal Flush\":\n",
        "        print(\"Winner!\")\n",
        "        show_hand(hand)\n"
      ],
      "metadata": {
        "id": "MfZ17tITbb2N",
        "colab": {
          "base_uri": "https://localhost:8080/",
          "height": 361
        },
        "outputId": "e6a7de31-d714-4821-e8d7-473487e9dee3"
      },
      "execution_count": null,
      "outputs": [
        {
          "output_type": "stream",
          "name": "stdout",
          "text": [
            "Winner!\n"
          ]
        },
        {
          "output_type": "display_data",
          "data": {
            "text/plain": [
              "<IPython.core.display.HTML object>"
            ],
            "text/html": [
              "<img src=\"https://www.improvemagic.com/wp-content/uploads/2020/11/k10.png\" style=\"display:inline-block; margin:5px;\" /><img src=\"https://www.improvemagic.com/wp-content/uploads/2020/11/ka.png\" style=\"display:inline-block; margin:5px;\" /><img src=\"https://www.improvemagic.com/wp-content/uploads/2020/11/kj.png\" style=\"display:inline-block; margin:5px;\" /><img src=\"https://www.improvemagic.com/wp-content/uploads/2020/11/kq.png\" style=\"display:inline-block; margin:5px;\" /><img src=\"https://www.improvemagic.com/wp-content/uploads/2020/11/kk.png\" style=\"display:inline-block; margin:5px;\" />"
            ]
          },
          "metadata": {}
        }
      ]
    },
    {
      "cell_type": "code",
      "source": [],
      "metadata": {
        "id": "br1RRi_poHej"
      },
      "execution_count": null,
      "outputs": []
    },
    {
      "cell_type": "code",
      "source": [
        "wins = 0\n",
        "N = 10000000\n",
        "\n",
        "for i in range(N):\n",
        "    # Initialize and shuffle the deck\n",
        "    deck = initialize_deck()\n",
        "    top_index = 0  # Start at the beginning of the deck\n",
        "\n",
        "    hand, top_index = draw_cards(deck, top_index, 5)\n",
        "\n",
        "    if evaluate_hand(hand) == \"Royal Flush\":\n",
        "        wins += 1\n",
        "        print(\"Winner!\")\n",
        "        show_hand(hand)"
      ],
      "metadata": {
        "colab": {
          "base_uri": "https://localhost:8080/",
          "height": 1000
        },
        "id": "rU4xfCSPoHjR",
        "outputId": "0b74991c-c661-4784-e8c5-b81712b6e0a5"
      },
      "execution_count": null,
      "outputs": [
        {
          "output_type": "stream",
          "name": "stdout",
          "text": [
            "Winner!\n"
          ]
        },
        {
          "output_type": "display_data",
          "data": {
            "text/plain": [
              "<IPython.core.display.HTML object>"
            ],
            "text/html": [
              "<img src=\"https://www.improvemagic.com/wp-content/uploads/2020/11/lq.png\" style=\"display:inline-block; margin:5px;\" /><img src=\"https://www.improvemagic.com/wp-content/uploads/2020/11/lj.png\" style=\"display:inline-block; margin:5px;\" /><img src=\"https://www.improvemagic.com/wp-content/uploads/2020/11/la.png\" style=\"display:inline-block; margin:5px;\" /><img src=\"https://www.improvemagic.com/wp-content/uploads/2020/11/l10.png\" style=\"display:inline-block; margin:5px;\" /><img src=\"https://www.improvemagic.com/wp-content/uploads/2020/11/lk.png\" style=\"display:inline-block; margin:5px;\" />"
            ]
          },
          "metadata": {}
        },
        {
          "output_type": "stream",
          "name": "stdout",
          "text": [
            "Winner!\n"
          ]
        },
        {
          "output_type": "display_data",
          "data": {
            "text/plain": [
              "<IPython.core.display.HTML object>"
            ],
            "text/html": [
              "<img src=\"https://www.improvemagic.com/wp-content/uploads/2020/11/p10.png\" style=\"display:inline-block; margin:5px;\" /><img src=\"https://www.improvemagic.com/wp-content/uploads/2020/11/pq.png\" style=\"display:inline-block; margin:5px;\" /><img src=\"https://www.improvemagic.com/wp-content/uploads/2020/11/pj.png\" style=\"display:inline-block; margin:5px;\" /><img src=\"https://www.improvemagic.com/wp-content/uploads/2020/11/pa.png\" style=\"display:inline-block; margin:5px;\" /><img src=\"https://www.improvemagic.com/wp-content/uploads/2020/11/pk.png\" style=\"display:inline-block; margin:5px;\" />"
            ]
          },
          "metadata": {}
        },
        {
          "output_type": "stream",
          "name": "stdout",
          "text": [
            "Winner!\n"
          ]
        },
        {
          "output_type": "display_data",
          "data": {
            "text/plain": [
              "<IPython.core.display.HTML object>"
            ],
            "text/html": [
              "<img src=\"https://www.improvemagic.com/wp-content/uploads/2020/11/lq.png\" style=\"display:inline-block; margin:5px;\" /><img src=\"https://www.improvemagic.com/wp-content/uploads/2020/11/lj.png\" style=\"display:inline-block; margin:5px;\" /><img src=\"https://www.improvemagic.com/wp-content/uploads/2020/11/lk.png\" style=\"display:inline-block; margin:5px;\" /><img src=\"https://www.improvemagic.com/wp-content/uploads/2020/11/l10.png\" style=\"display:inline-block; margin:5px;\" /><img src=\"https://www.improvemagic.com/wp-content/uploads/2020/11/la.png\" style=\"display:inline-block; margin:5px;\" />"
            ]
          },
          "metadata": {}
        },
        {
          "output_type": "stream",
          "name": "stdout",
          "text": [
            "Winner!\n"
          ]
        },
        {
          "output_type": "display_data",
          "data": {
            "text/plain": [
              "<IPython.core.display.HTML object>"
            ],
            "text/html": [
              "<img src=\"https://www.improvemagic.com/wp-content/uploads/2020/11/p10.png\" style=\"display:inline-block; margin:5px;\" /><img src=\"https://www.improvemagic.com/wp-content/uploads/2020/11/pq.png\" style=\"display:inline-block; margin:5px;\" /><img src=\"https://www.improvemagic.com/wp-content/uploads/2020/11/pk.png\" style=\"display:inline-block; margin:5px;\" /><img src=\"https://www.improvemagic.com/wp-content/uploads/2020/11/pj.png\" style=\"display:inline-block; margin:5px;\" /><img src=\"https://www.improvemagic.com/wp-content/uploads/2020/11/pa.png\" style=\"display:inline-block; margin:5px;\" />"
            ]
          },
          "metadata": {}
        },
        {
          "output_type": "stream",
          "name": "stdout",
          "text": [
            "Winner!\n"
          ]
        },
        {
          "output_type": "display_data",
          "data": {
            "text/plain": [
              "<IPython.core.display.HTML object>"
            ],
            "text/html": [
              "<img src=\"https://www.improvemagic.com/wp-content/uploads/2020/11/lk.png\" style=\"display:inline-block; margin:5px;\" /><img src=\"https://www.improvemagic.com/wp-content/uploads/2020/11/l10.png\" style=\"display:inline-block; margin:5px;\" /><img src=\"https://www.improvemagic.com/wp-content/uploads/2020/11/lj.png\" style=\"display:inline-block; margin:5px;\" /><img src=\"https://www.improvemagic.com/wp-content/uploads/2020/11/lq.png\" style=\"display:inline-block; margin:5px;\" /><img src=\"https://www.improvemagic.com/wp-content/uploads/2020/11/la.png\" style=\"display:inline-block; margin:5px;\" />"
            ]
          },
          "metadata": {}
        },
        {
          "output_type": "stream",
          "name": "stdout",
          "text": [
            "Winner!\n"
          ]
        },
        {
          "output_type": "display_data",
          "data": {
            "text/plain": [
              "<IPython.core.display.HTML object>"
            ],
            "text/html": [
              "<img src=\"https://www.improvemagic.com/wp-content/uploads/2020/11/sk.png\" style=\"display:inline-block; margin:5px;\" /><img src=\"https://www.improvemagic.com/wp-content/uploads/2020/11/sa.png\" style=\"display:inline-block; margin:5px;\" /><img src=\"https://www.improvemagic.com/wp-content/uploads/2020/11/s10.png\" style=\"display:inline-block; margin:5px;\" /><img src=\"https://www.improvemagic.com/wp-content/uploads/2020/11/sq.png\" style=\"display:inline-block; margin:5px;\" /><img src=\"https://www.improvemagic.com/wp-content/uploads/2020/11/sj.png\" style=\"display:inline-block; margin:5px;\" />"
            ]
          },
          "metadata": {}
        },
        {
          "output_type": "stream",
          "name": "stdout",
          "text": [
            "Winner!\n"
          ]
        },
        {
          "output_type": "display_data",
          "data": {
            "text/plain": [
              "<IPython.core.display.HTML object>"
            ],
            "text/html": [
              "<img src=\"https://www.improvemagic.com/wp-content/uploads/2020/11/lk.png\" style=\"display:inline-block; margin:5px;\" /><img src=\"https://www.improvemagic.com/wp-content/uploads/2020/11/la.png\" style=\"display:inline-block; margin:5px;\" /><img src=\"https://www.improvemagic.com/wp-content/uploads/2020/11/lj.png\" style=\"display:inline-block; margin:5px;\" /><img src=\"https://www.improvemagic.com/wp-content/uploads/2020/11/lq.png\" style=\"display:inline-block; margin:5px;\" /><img src=\"https://www.improvemagic.com/wp-content/uploads/2020/11/l10.png\" style=\"display:inline-block; margin:5px;\" />"
            ]
          },
          "metadata": {}
        },
        {
          "output_type": "stream",
          "name": "stdout",
          "text": [
            "Winner!\n"
          ]
        },
        {
          "output_type": "display_data",
          "data": {
            "text/plain": [
              "<IPython.core.display.HTML object>"
            ],
            "text/html": [
              "<img src=\"https://www.improvemagic.com/wp-content/uploads/2020/11/pa.png\" style=\"display:inline-block; margin:5px;\" /><img src=\"https://www.improvemagic.com/wp-content/uploads/2020/11/pk.png\" style=\"display:inline-block; margin:5px;\" /><img src=\"https://www.improvemagic.com/wp-content/uploads/2020/11/pq.png\" style=\"display:inline-block; margin:5px;\" /><img src=\"https://www.improvemagic.com/wp-content/uploads/2020/11/p10.png\" style=\"display:inline-block; margin:5px;\" /><img src=\"https://www.improvemagic.com/wp-content/uploads/2020/11/pj.png\" style=\"display:inline-block; margin:5px;\" />"
            ]
          },
          "metadata": {}
        },
        {
          "output_type": "stream",
          "name": "stdout",
          "text": [
            "Winner!\n"
          ]
        },
        {
          "output_type": "display_data",
          "data": {
            "text/plain": [
              "<IPython.core.display.HTML object>"
            ],
            "text/html": [
              "<img src=\"https://www.improvemagic.com/wp-content/uploads/2020/11/sa.png\" style=\"display:inline-block; margin:5px;\" /><img src=\"https://www.improvemagic.com/wp-content/uploads/2020/11/sj.png\" style=\"display:inline-block; margin:5px;\" /><img src=\"https://www.improvemagic.com/wp-content/uploads/2020/11/sk.png\" style=\"display:inline-block; margin:5px;\" /><img src=\"https://www.improvemagic.com/wp-content/uploads/2020/11/sq.png\" style=\"display:inline-block; margin:5px;\" /><img src=\"https://www.improvemagic.com/wp-content/uploads/2020/11/s10.png\" style=\"display:inline-block; margin:5px;\" />"
            ]
          },
          "metadata": {}
        },
        {
          "output_type": "stream",
          "name": "stdout",
          "text": [
            "Winner!\n"
          ]
        },
        {
          "output_type": "display_data",
          "data": {
            "text/plain": [
              "<IPython.core.display.HTML object>"
            ],
            "text/html": [
              "<img src=\"https://www.improvemagic.com/wp-content/uploads/2020/11/k10.png\" style=\"display:inline-block; margin:5px;\" /><img src=\"https://www.improvemagic.com/wp-content/uploads/2020/11/kk.png\" style=\"display:inline-block; margin:5px;\" /><img src=\"https://www.improvemagic.com/wp-content/uploads/2020/11/kq.png\" style=\"display:inline-block; margin:5px;\" /><img src=\"https://www.improvemagic.com/wp-content/uploads/2020/11/kj.png\" style=\"display:inline-block; margin:5px;\" /><img src=\"https://www.improvemagic.com/wp-content/uploads/2020/11/ka.png\" style=\"display:inline-block; margin:5px;\" />"
            ]
          },
          "metadata": {}
        },
        {
          "output_type": "stream",
          "name": "stdout",
          "text": [
            "Winner!\n"
          ]
        },
        {
          "output_type": "display_data",
          "data": {
            "text/plain": [
              "<IPython.core.display.HTML object>"
            ],
            "text/html": [
              "<img src=\"https://www.improvemagic.com/wp-content/uploads/2020/11/pq.png\" style=\"display:inline-block; margin:5px;\" /><img src=\"https://www.improvemagic.com/wp-content/uploads/2020/11/pa.png\" style=\"display:inline-block; margin:5px;\" /><img src=\"https://www.improvemagic.com/wp-content/uploads/2020/11/pk.png\" style=\"display:inline-block; margin:5px;\" /><img src=\"https://www.improvemagic.com/wp-content/uploads/2020/11/p10.png\" style=\"display:inline-block; margin:5px;\" /><img src=\"https://www.improvemagic.com/wp-content/uploads/2020/11/pj.png\" style=\"display:inline-block; margin:5px;\" />"
            ]
          },
          "metadata": {}
        },
        {
          "output_type": "stream",
          "name": "stdout",
          "text": [
            "Winner!\n"
          ]
        },
        {
          "output_type": "display_data",
          "data": {
            "text/plain": [
              "<IPython.core.display.HTML object>"
            ],
            "text/html": [
              "<img src=\"https://www.improvemagic.com/wp-content/uploads/2020/11/kk.png\" style=\"display:inline-block; margin:5px;\" /><img src=\"https://www.improvemagic.com/wp-content/uploads/2020/11/k10.png\" style=\"display:inline-block; margin:5px;\" /><img src=\"https://www.improvemagic.com/wp-content/uploads/2020/11/ka.png\" style=\"display:inline-block; margin:5px;\" /><img src=\"https://www.improvemagic.com/wp-content/uploads/2020/11/kj.png\" style=\"display:inline-block; margin:5px;\" /><img src=\"https://www.improvemagic.com/wp-content/uploads/2020/11/kq.png\" style=\"display:inline-block; margin:5px;\" />"
            ]
          },
          "metadata": {}
        },
        {
          "output_type": "stream",
          "name": "stdout",
          "text": [
            "Winner!\n"
          ]
        },
        {
          "output_type": "display_data",
          "data": {
            "text/plain": [
              "<IPython.core.display.HTML object>"
            ],
            "text/html": [
              "<img src=\"https://www.improvemagic.com/wp-content/uploads/2020/11/k10.png\" style=\"display:inline-block; margin:5px;\" /><img src=\"https://www.improvemagic.com/wp-content/uploads/2020/11/kj.png\" style=\"display:inline-block; margin:5px;\" /><img src=\"https://www.improvemagic.com/wp-content/uploads/2020/11/ka.png\" style=\"display:inline-block; margin:5px;\" /><img src=\"https://www.improvemagic.com/wp-content/uploads/2020/11/kk.png\" style=\"display:inline-block; margin:5px;\" /><img src=\"https://www.improvemagic.com/wp-content/uploads/2020/11/kq.png\" style=\"display:inline-block; margin:5px;\" />"
            ]
          },
          "metadata": {}
        },
        {
          "output_type": "stream",
          "name": "stdout",
          "text": [
            "Winner!\n"
          ]
        },
        {
          "output_type": "display_data",
          "data": {
            "text/plain": [
              "<IPython.core.display.HTML object>"
            ],
            "text/html": [
              "<img src=\"https://www.improvemagic.com/wp-content/uploads/2020/11/lj.png\" style=\"display:inline-block; margin:5px;\" /><img src=\"https://www.improvemagic.com/wp-content/uploads/2020/11/l10.png\" style=\"display:inline-block; margin:5px;\" /><img src=\"https://www.improvemagic.com/wp-content/uploads/2020/11/lq.png\" style=\"display:inline-block; margin:5px;\" /><img src=\"https://www.improvemagic.com/wp-content/uploads/2020/11/la.png\" style=\"display:inline-block; margin:5px;\" /><img src=\"https://www.improvemagic.com/wp-content/uploads/2020/11/lk.png\" style=\"display:inline-block; margin:5px;\" />"
            ]
          },
          "metadata": {}
        }
      ]
    },
    {
      "cell_type": "code",
      "source": [
        "wins/N"
      ],
      "metadata": {
        "id": "Q7WDJidEw7yT",
        "outputId": "b36d0bc2-0381-4ece-dcef-5b22af8724e9",
        "colab": {
          "base_uri": "https://localhost:8080/",
          "height": 179
        }
      },
      "execution_count": null,
      "outputs": [
        {
          "output_type": "error",
          "ename": "NameError",
          "evalue": "name 'wins' is not defined",
          "traceback": [
            "\u001b[0;31m---------------------------------------------------------------------------\u001b[0m",
            "\u001b[0;31mNameError\u001b[0m                                 Traceback (most recent call last)",
            "\u001b[0;32m<ipython-input-162-457dd15c47c0>\u001b[0m in \u001b[0;36m<cell line: 1>\u001b[0;34m()\u001b[0m\n\u001b[0;32m----> 1\u001b[0;31m \u001b[0mwins\u001b[0m\u001b[0;34m/\u001b[0m\u001b[0mN\u001b[0m\u001b[0;34m\u001b[0m\u001b[0;34m\u001b[0m\u001b[0m\n\u001b[0m",
            "\u001b[0;31mNameError\u001b[0m: name 'wins' is not defined"
          ]
        }
      ]
    },
    {
      "cell_type": "code",
      "source": [],
      "metadata": {
        "id": "Erx7P3YYb9jx"
      },
      "execution_count": null,
      "outputs": []
    }
  ]
}